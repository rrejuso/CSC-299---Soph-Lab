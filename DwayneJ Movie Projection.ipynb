{
 "cells": [
  {
   "cell_type": "code",
   "execution_count": 2,
   "metadata": {},
   "outputs": [],
   "source": [
    "import networkx as nx\n",
    "import pandas as pd\n",
    "import numpy as np\n",
    "import matplotlib.pyplot as plt\n",
    "import seaborn as sbn\n",
    "%matplotlib inline\n"
   ]
  },
  {
   "cell_type": "code",
   "execution_count": 3,
   "metadata": {},
   "outputs": [],
   "source": [
    "dwayne_file = \"autosaveDJO.graphml\""
   ]
  },
  {
   "cell_type": "code",
   "execution_count": 4,
   "metadata": {},
   "outputs": [
    {
     "name": "stdout",
     "output_type": "stream",
     "text": [
      "[('100', {'label': '<Dwayne_Johnson>', 'bipartite': 0, '_depth': 0, '_expanded': 1, 'gender': 'male'}), ('101', {'label': '<Tooth_Fairy_(2010_film)>', 'bipartite': 1, '_depth': 1, '_expanded': 1, 'gross': 48000000.0, 'budget': 112500000.0}), ('102', {'label': '<Southland_Tales>', 'bipartite': 1, '_depth': 1, '_expanded': 1, 'gross': 17000000.0, 'budget': 374743.0}), ('103', {'label': '<Gridiron_Gang>', 'bipartite': 1, '_depth': 1, '_expanded': 1, 'gross': 30000000.0, 'budget': 179480851.0}), ('104', {'label': '<San_Andreas_(film)>', 'bipartite': 1, '_depth': 1, '_expanded': 1, 'gross': 110000000.0, 'budget': 474000000.0})]\n"
     ]
    }
   ],
   "source": [
    "dwayne = nx.read_graphml(dwayne_file)\n",
    "print(list(dwayne.nodes(data=True))[0:5])"
   ]
  },
  {
   "cell_type": "code",
   "execution_count": 5,
   "metadata": {},
   "outputs": [],
   "source": [
    "movies = [node for node, nodedata in dwayne.nodes(data=True) if nodedata['bipartite'] == 1]"
   ]
  },
  {
   "cell_type": "code",
   "execution_count": 6,
   "metadata": {},
   "outputs": [],
   "source": [
    "movieProjection = nx.bipartite.weighted_projected_graph(dwayne, movies)\n",
    "filtered = nx.Graph(movieProjection)\n",
    "\n",
    "to_remove = [(n1, n2) for n1,n2,data in movieProjection.edges(data=True) if data['weight'] < 2]\n",
    "filtered.remove_edges_from(to_remove)\n",
    "giant_cc_nodes = max(nx.connected_components(filtered), key = len)\n",
    "filtered2 = filtered.subgraph(giant_cc_nodes)\n",
    "labels = {nodeId:data['label'] for nodeId, data in filtered2.nodes(data=True)}\n",
    "\n",
    "#remove 0 budget\n",
    "\n"
   ]
  },
  {
   "cell_type": "code",
   "execution_count": 9,
   "metadata": {},
   "outputs": [
    {
     "name": "stdout",
     "output_type": "stream",
     "text": [
      "296\n"
     ]
    }
   ],
   "source": [
    "filtered3 = filtered2.copy()\n",
    "\n",
    "print(len(filtered2.nodes(data=True)))\n",
    "NanMovies = [n1 for n1, data in filtered2.nodes(data=True) if np.isnan(data['gross']) or np.isnan(data['budget'])]\n",
    "#len(NanMovies)\n",
    "\n",
    "filtered3.remove_nodes_from(NanMovies)\n"
   ]
  },
  {
   "cell_type": "code",
   "execution_count": 10,
   "metadata": {},
   "outputs": [
    {
     "name": "stdout",
     "output_type": "stream",
     "text": [
      "False\n"
     ]
    }
   ],
   "source": [
    "print(len(filtered2 ) == len(filtered3))"
   ]
  },
  {
   "cell_type": "code",
   "execution_count": 11,
   "metadata": {},
   "outputs": [],
   "source": [
    "movies = [(node,nodedata) for node, nodedata in filtered3.nodes(data=True) if nodedata['bipartite'] == 1]\n"
   ]
  },
  {
   "cell_type": "code",
   "execution_count": 12,
   "metadata": {},
   "outputs": [],
   "source": [
    "names = {movie:data['label'] for movie, data in movies}"
   ]
  },
  {
   "cell_type": "code",
   "execution_count": 67,
   "metadata": {},
   "outputs": [
    {
     "data": {
      "image/png": "[encoded data removed]",
      "text/plain": [
       "<Figure size 432x288 with 1 Axes>"
      ]
     },
     "metadata": {},
     "output_type": "display_data"
    }
   ],
   "source": [
    "nx.set_node_attributes(filtered3, names, name = \"Names\")\n",
    "\n",
    "\n",
    "nx.draw(filtered3)\n",
    "\n",
    "nx.write_graphml(filtered3, \"DwayneJohnsonMOVIESFiltered.graphml\")\n"
   ]
  },
  {
   "cell_type": "code",
   "execution_count": null,
   "metadata": {},
   "outputs": [],
   "source": []
  },
  {
   "cell_type": "code",
   "execution_count": null,
   "metadata": {},
   "outputs": [],
   "source": []
  },
  {
   "cell_type": "code",
   "execution_count": null,
   "metadata": {},
   "outputs": [],
   "source": []
  }
 ],
 "metadata": {
  "kernelspec": {
   "display_name": "Python 3",
   "language": "python",
   "name": "python3"
  },
  "language_info": {
   "codemirror_mode": {
    "name": "ipython",
    "version": 3
   },
   "file_extension": ".py",
   "mimetype": "text/x-python",
   "name": "python",
   "nbconvert_exporter": "python",
   "pygments_lexer": "ipython3",
   "version": "3.6.5"
  }
 },
 "nbformat": 4,
 "nbformat_minor": 2
}
