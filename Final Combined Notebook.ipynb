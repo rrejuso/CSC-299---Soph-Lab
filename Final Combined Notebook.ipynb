{
 "cells": [
  {
   "cell_type": "markdown",
   "metadata": {},
   "source": [
    "# Creating Actor Projections"
   ]
  },
  {
   "cell_type": "markdown",
   "metadata": {},
   "source": [
    "### Dwayne Johnson Projection"
   ]
  },
  {
   "cell_type": "code",
   "execution_count": 1,
   "metadata": {},
   "outputs": [],
   "source": [
    "import networkx as nx\n",
    "import pandas as pd\n",
    "import numpy as np\n",
    "import matplotlib.pyplot as plt\n",
    "import seaborn as sbn\n",
    "%matplotlib inline\n",
    "import urllib\n",
    "import scipy as sp\n",
    "import math\n"
   ]
  },
  {
   "cell_type": "code",
   "execution_count": 2,
   "metadata": {},
   "outputs": [],
   "source": [
    "dwayne_file = \"autosaveDJO.graphml\""
   ]
  },
  {
   "cell_type": "code",
   "execution_count": 3,
   "metadata": {},
   "outputs": [
    {
     "name": "stdout",
     "output_type": "stream",
     "text": [
      "[('100', {'label': '<Dwayne_Johnson>', 'bipartite': 0, '_depth': 0, '_expanded': 1, 'gender': 'male'}), ('101', {'label': '<Tooth_Fairy_(2010_film)>', 'bipartite': 1, '_depth': 1, '_expanded': 1, 'gross': 48000000.0, 'budget': 112500000.0}), ('102', {'label': '<Southland_Tales>', 'bipartite': 1, '_depth': 1, '_expanded': 1, 'gross': 17000000.0, 'budget': 374743.0}), ('103', {'label': '<Gridiron_Gang>', 'bipartite': 1, '_depth': 1, '_expanded': 1, 'gross': 30000000.0, 'budget': 179480851.0}), ('104', {'label': '<San_Andreas_(film)>', 'bipartite': 1, '_depth': 1, '_expanded': 1, 'gross': 110000000.0, 'budget': 474000000.0})]\n"
     ]
    }
   ],
   "source": [
    "dwayne = nx.read_graphml(dwayne_file)\n",
    "print(list(dwayne.nodes(data=True))[0:5])"
   ]
  },
  {
   "cell_type": "code",
   "execution_count": 4,
   "metadata": {},
   "outputs": [],
   "source": [
    "actors = [node for node, nodedata in dwayne.nodes(data=True) if nodedata['bipartite'] == 0]"
   ]
  },
  {
   "cell_type": "code",
   "execution_count": 5,
   "metadata": {},
   "outputs": [],
   "source": [
    "actorProjection = nx.bipartite.weighted_projected_graph(dwayne, actors)\n",
    "filtered = nx.Graph(actorProjection)\n",
    "\n",
    "to_remove = [(n1, n2) for n1,n2,data in actorProjection.edges(data=True) if data['weight'] < 2]\n",
    "filtered.remove_edges_from(to_remove)\n",
    "giant_cc_nodes = max(nx.connected_components(filtered), key = len)\n",
    "filtered2 = filtered.subgraph(giant_cc_nodes)\n",
    "\n",
    "labels = {nodeId:data['label'] for nodeId, data in filtered2.nodes(data=True)}\n",
    "\n",
    "#nx.draw(filtered2, labels = labels)\n",
    "\n",
    "nx.write_graphml(filtered2, \"DwayneJohnsonActors.graphml\")\n",
    "\n"
   ]
  },
  {
   "cell_type": "markdown",
   "metadata": {},
   "source": [
    "### Scarlett Johansson Projection"
   ]
  },
  {
   "cell_type": "code",
   "execution_count": 6,
   "metadata": {},
   "outputs": [],
   "source": [
    "sjo_file = \"autosaveSJO.graphml\""
   ]
  },
  {
   "cell_type": "code",
   "execution_count": 7,
   "metadata": {},
   "outputs": [],
   "source": [
    "sjo = nx.read_graphml(sjo_file)"
   ]
  },
  {
   "cell_type": "code",
   "execution_count": 8,
   "metadata": {},
   "outputs": [],
   "source": [
    "actors = [node for node, nodedata in sjo.nodes(data=True) if nodedata['bipartite'] == 0]"
   ]
  },
  {
   "cell_type": "code",
   "execution_count": 9,
   "metadata": {
    "scrolled": true
   },
   "outputs": [],
   "source": [
    "actorProjection = nx.bipartite.weighted_projected_graph(sjo, actors)\n",
    "filtered = nx.Graph(actorProjection)\n",
    "\n",
    "to_remove = [(n1, n2) for n1,n2,data in actorProjection.edges(data=True) if data['weight'] < 2]\n",
    "filtered.remove_edges_from(to_remove)\n",
    "giant_cc_nodes = max(nx.connected_components(filtered), key = len)\n",
    "filtered2 = filtered.subgraph(giant_cc_nodes)\n",
    "\n",
    "labels = {nodeId:data['label'] for nodeId, data in filtered2.nodes(data=True)}\n",
    "\n",
    "#nx.draw(filtered2, labels = labels)\n",
    "\n",
    "nx.write_graphml(filtered2, \"ScarletteJoActors.graphml\")"
   ]
  },
  {
   "cell_type": "markdown",
   "metadata": {},
   "source": [
    "# Creating Movie Projections"
   ]
  },
  {
   "cell_type": "markdown",
   "metadata": {},
   "source": [
    "### Dwayne Johnson Movie Projection"
   ]
  },
  {
   "cell_type": "code",
   "execution_count": 10,
   "metadata": {},
   "outputs": [],
   "source": [
    "dwayne_file = \"autosaveDJO.graphml\""
   ]
  },
  {
   "cell_type": "code",
   "execution_count": 11,
   "metadata": {},
   "outputs": [],
   "source": [
    "dwayne = nx.read_graphml(dwayne_file)"
   ]
  },
  {
   "cell_type": "code",
   "execution_count": 12,
   "metadata": {},
   "outputs": [],
   "source": [
    "movies = [node for node, nodedata in dwayne.nodes(data=True) if nodedata['bipartite'] == 1]"
   ]
  },
  {
   "cell_type": "code",
   "execution_count": 13,
   "metadata": {},
   "outputs": [],
   "source": [
    "movieProjection = nx.bipartite.weighted_projected_graph(dwayne, movies)\n",
    "filtered = nx.Graph(movieProjection)\n",
    "\n",
    "to_remove = [(n1, n2) for n1,n2,data in movieProjection.edges(data=True) if data['weight'] < 2]\n",
    "filtered.remove_edges_from(to_remove)\n",
    "giant_cc_nodes = max(nx.connected_components(filtered), key = len)\n",
    "filtered2 = filtered.subgraph(giant_cc_nodes)\n",
    "labels = {nodeId:data['label'] for nodeId, data in filtered2.nodes(data=True)}\n",
    "\n",
    "#remove 0 budget\n",
    "\n"
   ]
  },
  {
   "cell_type": "code",
   "execution_count": 14,
   "metadata": {},
   "outputs": [
    {
     "name": "stdout",
     "output_type": "stream",
     "text": [
      "296\n"
     ]
    }
   ],
   "source": [
    "filtered3 = filtered2.copy()\n",
    "\n",
    "print(len(filtered2.nodes(data=True)))\n",
    "NanMovies = [n1 for n1, data in filtered2.nodes(data=True) if np.isnan(data['gross']) or np.isnan(data['budget'])]\n",
    "#len(NanMovies)\n",
    "\n",
    "filtered3.remove_nodes_from(NanMovies)\n"
   ]
  },
  {
   "cell_type": "code",
   "execution_count": 15,
   "metadata": {},
   "outputs": [
    {
     "name": "stdout",
     "output_type": "stream",
     "text": [
      "False\n"
     ]
    }
   ],
   "source": [
    "print(len(filtered2 ) == len(filtered3))"
   ]
  },
  {
   "cell_type": "code",
   "execution_count": 16,
   "metadata": {},
   "outputs": [],
   "source": [
    "movies = [(node,nodedata) for node, nodedata in filtered3.nodes(data=True) if nodedata['bipartite'] == 1]\n"
   ]
  },
  {
   "cell_type": "code",
   "execution_count": 17,
   "metadata": {},
   "outputs": [],
   "source": [
    "names = {movie:data['label'] for movie, data in movies}"
   ]
  },
  {
   "cell_type": "code",
   "execution_count": 18,
   "metadata": {
    "scrolled": true
   },
   "outputs": [
    {
     "data": {
      "image/png": "[encoded data removed]",
      "text/plain": [
       "<Figure size 432x288 with 1 Axes>"
      ]
     },
     "metadata": {},
     "output_type": "display_data"
    }
   ],
   "source": [
    "nx.set_node_attributes(filtered3, names, name = \"Names\")\n",
    "\n",
    "\n",
    "nx.draw(filtered3)\n",
    "\n",
    "nx.write_graphml(filtered3, \"DwayneJohnsonMOVIESFiltered.graphml\")\n"
   ]
  },
  {
   "cell_type": "markdown",
   "metadata": {},
   "source": [
    "### Scarlett Johansson Projection"
   ]
  },
  {
   "cell_type": "code",
   "execution_count": 19,
   "metadata": {},
   "outputs": [],
   "source": [
    "SJO = nx.read_graphml(sjo_file)\n",
    "#print(list(SJO.nodes(data=True))[0:5])"
   ]
  },
  {
   "cell_type": "code",
   "execution_count": 20,
   "metadata": {},
   "outputs": [],
   "source": [
    "movies = [node for node, nodedata in SJO.nodes(data=True) if nodedata['bipartite'] == 1]"
   ]
  },
  {
   "cell_type": "code",
   "execution_count": 21,
   "metadata": {},
   "outputs": [],
   "source": [
    "movieProjection = nx.bipartite.weighted_projected_graph(SJO, movies)\n",
    "filtered = nx.Graph(movieProjection)\n",
    "\n",
    "to_remove = [(n1, n2) for n1,n2,data in movieProjection.edges(data=True) if data['weight'] < 2]\n",
    "filtered.remove_edges_from(to_remove)\n",
    "giant_cc_nodes = max(nx.connected_components(filtered), key = len)\n",
    "filtered2 = filtered.subgraph(giant_cc_nodes)\n",
    "labels = {nodeId:data['label'] for nodeId, data in filtered2.nodes(data=True)}\n",
    "\n",
    "#remove 0 budget\n",
    "\n"
   ]
  },
  {
   "cell_type": "code",
   "execution_count": 22,
   "metadata": {},
   "outputs": [
    {
     "name": "stdout",
     "output_type": "stream",
     "text": [
      "341\n"
     ]
    }
   ],
   "source": [
    "filtered3 = filtered2.copy()\n",
    "\n",
    "print(len(filtered2.nodes(data=True)))\n",
    "NanMovies = [n1 for n1, data in filtered2.nodes(data=True) if np.isnan(data['gross']) or np.isnan(data['budget'])]\n",
    "#len(NanMovies)\n",
    "\n",
    "filtered3.remove_nodes_from(NanMovies)\n"
   ]
  },
  {
   "cell_type": "code",
   "execution_count": 23,
   "metadata": {},
   "outputs": [
    {
     "name": "stdout",
     "output_type": "stream",
     "text": [
      "False\n"
     ]
    }
   ],
   "source": [
    "print(len(filtered2 ) == len(filtered3))"
   ]
  },
  {
   "cell_type": "code",
   "execution_count": 24,
   "metadata": {},
   "outputs": [],
   "source": [
    "movies = [(node,nodedata) for node, nodedata in filtered3.nodes(data=True) if nodedata['bipartite'] == 1]\n"
   ]
  },
  {
   "cell_type": "code",
   "execution_count": 25,
   "metadata": {},
   "outputs": [],
   "source": [
    "names = {movie:data['label'] for movie, data in movies}"
   ]
  },
  {
   "cell_type": "code",
   "execution_count": 26,
   "metadata": {},
   "outputs": [
    {
     "data": {
      "image/png": "[encoded data removed]",
      "text/plain": [
       "<Figure size 432x288 with 1 Axes>"
      ]
     },
     "metadata": {},
     "output_type": "display_data"
    }
   ],
   "source": [
    "nx.set_node_attributes(filtered3, names, name = \"Names\")\n",
    "\n",
    "\n",
    "nx.draw(filtered3)\n",
    "\n",
    "nx.write_graphml(filtered3, \"ScarlettJMOVIESFiltered.graphml\")\n"
   ]
  },
  {
   "cell_type": "markdown",
   "metadata": {},
   "source": [
    "# Combining Movie Projections for analysis:"
   ]
  },
  {
   "cell_type": "code",
   "execution_count": 27,
   "metadata": {},
   "outputs": [],
   "source": [
    "dwayne_file = \"DwayneJohnsonMOVIESFiltered.graphml\"\n",
    "sjo_file = \"ScarlettJMOVIESFiltered.graphml\""
   ]
  },
  {
   "cell_type": "code",
   "execution_count": 28,
   "metadata": {},
   "outputs": [],
   "source": [
    "SJO = nx.read_graphml(sjo_file)\n",
    "dwayne = nx.read_graphml(dwayne_file)"
   ]
  },
  {
   "cell_type": "code",
   "execution_count": 29,
   "metadata": {},
   "outputs": [],
   "source": [
    "nx.set_node_attributes(SJO, \"SJO\", name=\"side\")\n",
    "nx.set_node_attributes(dwayne, \"DJO\", name=\"side\")"
   ]
  },
  {
   "cell_type": "code",
   "execution_count": 30,
   "metadata": {},
   "outputs": [],
   "source": [
    "combined = nx.compose(dwayne,SJO)"
   ]
  },
  {
   "cell_type": "code",
   "execution_count": 31,
   "metadata": {},
   "outputs": [],
   "source": [
    "nx.write_graphml(combined, \"combinedMOVIESFiltered.graphml\")"
   ]
  },
  {
   "cell_type": "markdown",
   "metadata": {},
   "source": [
    "# Gender Comparison"
   ]
  },
  {
   "cell_type": "markdown",
   "metadata": {},
   "source": [
    "### Dwayne Johnson Gender Comparison"
   ]
  },
  {
   "cell_type": "code",
   "execution_count": 32,
   "metadata": {},
   "outputs": [],
   "source": [
    "dwayne_file = \"DwayneJohnsonActors.graphml\""
   ]
  },
  {
   "cell_type": "code",
   "execution_count": 33,
   "metadata": {},
   "outputs": [],
   "source": [
    "dwayne = nx.read_graphml(dwayne_file)\n",
    "dwayneDict = dwayne.nodes(data=True)"
   ]
  },
  {
   "cell_type": "code",
   "execution_count": 34,
   "metadata": {},
   "outputs": [],
   "source": [
    "dwayne_deg = dict(nx.degree(dwayne, weight=\"weight\"))\n",
    "dwayne_bet = dict(nx.betweenness_centrality(dwayne, weight=\"weight\"))\n",
    "dwayne_clo = dict(nx.closeness_centrality(dwayne))"
   ]
  },
  {
   "cell_type": "code",
   "execution_count": null,
   "metadata": {},
   "outputs": [],
   "source": []
  },
  {
   "cell_type": "code",
   "execution_count": 35,
   "metadata": {},
   "outputs": [],
   "source": [
    "names = {actor:data['label'] for actor, data in dwayneDict}\n",
    "gender ={actor:data['gender'] for actor, data in dwayneDict}"
   ]
  },
  {
   "cell_type": "code",
   "execution_count": 36,
   "metadata": {},
   "outputs": [
    {
     "data": {
      "text/html": [
       "<div>\n",
       "<style scoped>\n",
       "    .dataframe tbody tr th:only-of-type {\n",
       "        vertical-align: middle;\n",
       "    }\n",
       "\n",
       "    .dataframe tbody tr th {\n",
       "        vertical-align: top;\n",
       "    }\n",
       "\n",
       "    .dataframe thead th {\n",
       "        text-align: right;\n",
       "    }\n",
       "</style>\n",
       "<table border=\"1\" class=\"dataframe\">\n",
       "  <thead>\n",
       "    <tr style=\"text-align: right;\">\n",
       "      <th></th>\n",
       "      <th>Wt Degree</th>\n",
       "      <th>bet</th>\n",
       "      <th>clo</th>\n",
       "      <th>Sex</th>\n",
       "    </tr>\n",
       "    <tr>\n",
       "      <th>Names</th>\n",
       "      <th></th>\n",
       "      <th></th>\n",
       "      <th></th>\n",
       "      <th></th>\n",
       "    </tr>\n",
       "  </thead>\n",
       "  <tbody>\n",
       "    <tr>\n",
       "      <th>&lt;Dwayne_Johnson&gt;</th>\n",
       "      <td>41</td>\n",
       "      <td>0.042909</td>\n",
       "      <td>0.264034</td>\n",
       "      <td>male</td>\n",
       "    </tr>\n",
       "    <tr>\n",
       "      <th>&lt;Ashley_Judd&gt;</th>\n",
       "      <td>21</td>\n",
       "      <td>0.020275</td>\n",
       "      <td>0.239298</td>\n",
       "      <td>female</td>\n",
       "    </tr>\n",
       "    <tr>\n",
       "      <th>&lt;Julie_Andrews&gt;</th>\n",
       "      <td>60</td>\n",
       "      <td>0.041406</td>\n",
       "      <td>0.237217</td>\n",
       "      <td>female</td>\n",
       "    </tr>\n",
       "    <tr>\n",
       "      <th>&lt;Wallace_Shawn&gt;</th>\n",
       "      <td>54</td>\n",
       "      <td>0.064670</td>\n",
       "      <td>0.252686</td>\n",
       "      <td>male</td>\n",
       "    </tr>\n",
       "    <tr>\n",
       "      <th>&lt;Miranda_Richardson&gt;</th>\n",
       "      <td>44</td>\n",
       "      <td>0.046704</td>\n",
       "      <td>0.276225</td>\n",
       "      <td>female</td>\n",
       "    </tr>\n",
       "  </tbody>\n",
       "</table>\n",
       "</div>"
      ],
      "text/plain": [
       "                      Wt Degree       bet       clo     Sex\n",
       "Names                                                      \n",
       "<Dwayne_Johnson>             41  0.042909  0.264034    male\n",
       "<Ashley_Judd>                21  0.020275  0.239298  female\n",
       "<Julie_Andrews>              60  0.041406  0.237217  female\n",
       "<Wallace_Shawn>              54  0.064670  0.252686    male\n",
       "<Miranda_Richardson>         44  0.046704  0.276225  female"
      ]
     },
     "execution_count": 36,
     "metadata": {},
     "output_type": "execute_result"
    }
   ],
   "source": [
    "dwayne_df = pd.DataFrame({\"Wt Degree\": dwayne_deg, \"bet\":dwayne_bet, \"clo\":dwayne_clo, \"Names\": names, \"Sex\": gender})\n",
    "dwayne_df = dwayne_df.set_index(\"Names\")\n",
    "dwayne_df.head()"
   ]
  },
  {
   "cell_type": "code",
   "execution_count": 37,
   "metadata": {},
   "outputs": [],
   "source": [
    "dw_bool = dwayne_df['Sex'] == 'male' \n",
    "dw_filter = dwayne_df['bet'] != 0\n",
    "\n",
    "nonZeroBet = dwayne_df['bet'][dw_filter]\n",
    "nonZeroClo = dwayne_df['clo'][dw_filter]"
   ]
  },
  {
   "cell_type": "code",
   "execution_count": 38,
   "metadata": {},
   "outputs": [
    {
     "data": {
      "text/plain": [
       "<matplotlib.legend.Legend at 0xbc4cfd0>"
      ]
     },
     "execution_count": 38,
     "metadata": {},
     "output_type": "execute_result"
    },
    {
     "data": {
      "image/png": "[encoded data removed]",
      "text/plain": [
       "<Figure size 432x288 with 1 Axes>"
      ]
     },
     "metadata": {},
     "output_type": "display_data"
    }
   ],
   "source": [
    "nonZeroBet = dwayne_df['bet'][dw_filter]\n",
    "\n",
    "dwayne_betm = nonZeroBet[dw_bool]\n",
    "dwayne_clom = nonZeroClo[dw_bool]\n",
    "plt.plot( dwayne_betm, dwayne_clom, 'ob')\n",
    "\n",
    "dwayne_betf = nonZeroBet[~dw_bool]\n",
    "dwayne_clof = nonZeroClo[~dw_bool]\n",
    "plt.plot( dwayne_betf, dwayne_clof,  'or')\n",
    "\n",
    "plt.title('Male/Female')\n",
    "plt.ylabel('Betweenness')\n",
    "plt.xlabel('Closeness(log)')\n",
    "plt.legend(['Male', 'Female'])"
   ]
  },
  {
   "cell_type": "code",
   "execution_count": 39,
   "metadata": {},
   "outputs": [
    {
     "data": {
      "text/plain": [
       "226"
      ]
     },
     "execution_count": 39,
     "metadata": {},
     "output_type": "execute_result"
    }
   ],
   "source": [
    "type(dwayne_df['Sex'])\n",
    "males = dwayne_df['Sex'][dw_bool]\n",
    "len(males)\n",
    "females = dwayne_df['Sex'][~dw_bool]\n",
    "len(females)"
   ]
  },
  {
   "cell_type": "code",
   "execution_count": 40,
   "metadata": {},
   "outputs": [
    {
     "data": {
      "text/plain": [
       "Text(0.5,1,'Closeness in Males vs Females in DJO graph')"
      ]
     },
     "execution_count": 40,
     "metadata": {},
     "output_type": "execute_result"
    },
    {
     "data": {
      "image/png": "[encoded data removed]",
      "text/plain": [
       "<Figure size 432x288 with 1 Axes>"
      ]
     },
     "metadata": {},
     "output_type": "display_data"
    }
   ],
   "source": [
    "\n",
    "plt.hist([dwayne_clom, dwayne_clof]  , color = ['b', 'r'])\n",
    "\n",
    "plt.xlabel(\"Closeness\")\n",
    "plt.legend([\"Male\",\"Female\"])\n",
    "plt.title(\"Closeness in Males vs Females in DJO graph\")"
   ]
  },
  {
   "cell_type": "code",
   "execution_count": 41,
   "metadata": {
    "scrolled": false
   },
   "outputs": [
    {
     "data": {
      "text/plain": [
       "([array([  0.,   4.,  18.,  34.,  86., 108.,  14.,   3.,   0.]),\n",
       "  array([ 0.,  1., 14., 15., 46., 69.,  9.,  5.,  0.])],\n",
       " array([0.1       , 0.12222222, 0.14444444, 0.16666667, 0.18888889,\n",
       "        0.21111111, 0.23333333, 0.25555556, 0.27777778, 0.3       ]),\n",
       " <a list of 2 Lists of Patches objects>)"
      ]
     },
     "execution_count": 41,
     "metadata": {},
     "output_type": "execute_result"
    },
    {
     "data": {
      "image/png": "[encoded data removed]",
      "text/plain": [
       "<Figure size 432x288 with 1 Axes>"
      ]
     },
     "metadata": {},
     "output_type": "display_data"
    }
   ],
   "source": [
    "onlyZeroClo = dwayne_df['clo'][~dw_filter]\n",
    "\n",
    "femaleClo = onlyZeroClo[dw_bool]\n",
    "maleClo = onlyZeroClo[~dw_bool]\n",
    "bins = np.linspace(0.1, 0.3, 10)\n",
    "plt.hist([femaleClo, maleClo] , bins , color = ['b', 'r'])\n",
    "#plt.hist(maleClo , bins,  alpha = 0.5, color = 'r')"
   ]
  },
  {
   "cell_type": "code",
   "execution_count": 42,
   "metadata": {},
   "outputs": [
    {
     "data": {
      "text/plain": [
       "([array([  9.,  20.,  41.,  79., 129.,  92.,  51.,  24.,  11.,   1.]),\n",
       "  array([ 3., 18., 15., 37., 72., 51., 19.,  8.,  2.,  1.])],\n",
       " array([0.13451677, 0.15216404, 0.16981131, 0.18745859, 0.20510586,\n",
       "        0.22275314, 0.24040041, 0.25804769, 0.27569496, 0.29334224,\n",
       "        0.31098951]),\n",
       " <a list of 2 Lists of Patches objects>)"
      ]
     },
     "execution_count": 42,
     "metadata": {},
     "output_type": "execute_result"
    },
    {
     "data": {
      "image/png": "[encoded data removed]",
      "text/plain": [
       "<Figure size 432x288 with 1 Axes>"
      ]
     },
     "metadata": {},
     "output_type": "display_data"
    }
   ],
   "source": [
    "\n",
    "maleClo = dwayne_df['clo'][dw_bool]\n",
    "femaleClo = dwayne_df['clo'][~dw_bool]\n",
    "plt.hist([maleClo, femaleClo] , color = ['b', 'r'])"
   ]
  },
  {
   "cell_type": "code",
   "execution_count": null,
   "metadata": {},
   "outputs": [],
   "source": []
  },
  {
   "cell_type": "code",
   "execution_count": 43,
   "metadata": {},
   "outputs": [
    {
     "data": {
      "text/plain": [
       "Text(0.5,1,'Male/Female Weighted Degree')"
      ]
     },
     "execution_count": 43,
     "metadata": {},
     "output_type": "execute_result"
    },
    {
     "data": {
      "image/png": "[encoded data removed]",
      "text/plain": [
       "<Figure size 432x288 with 1 Axes>"
      ]
     },
     "metadata": {},
     "output_type": "display_data"
    }
   ],
   "source": [
    "\n",
    "bins = np.linspace(0, 60,10)\n",
    "plt.hist([dwayne_df['Wt Degree'][dw_bool], dwayne_df['Wt Degree'][~dw_bool]], bins)\n",
    "plt.legend([\"Male\", \"Female\"])\n",
    "plt.title(\"Male/Female Weighted Degree\")\n",
    "#plt.axes(y = 'log')"
   ]
  },
  {
   "cell_type": "code",
   "execution_count": 44,
   "metadata": {},
   "outputs": [
    {
     "data": {
      "text/plain": [
       "Text(0.5,1,'Betweenness in Males vs Females in DJO graph')"
      ]
     },
     "execution_count": 44,
     "metadata": {},
     "output_type": "execute_result"
    },
    {
     "data": {
      "image/png": "[encoded data removed]",
      "text/plain": [
       "<Figure size 432x288 with 1 Axes>"
      ]
     },
     "metadata": {},
     "output_type": "display_data"
    }
   ],
   "source": [
    "bins = np.linspace(0.0, 0.1, 10)\n",
    "plt.hist([dwayne_betm, dwayne_betf] ,bins , )\n",
    "plt.xlabel(\"Betweenness\")\n",
    "plt.ylabel(\"Log Scale\")\n",
    "plt.yscale(\"log\")\n",
    "plt.legend([\"Male\",\"Female\"])\n",
    "plt.title(\"Betweenness in Males vs Females in DJO graph\")"
   ]
  },
  {
   "cell_type": "code",
   "execution_count": 45,
   "metadata": {
    "scrolled": true
   },
   "outputs": [
    {
     "data": {
      "text/plain": [
       "Text(0.5,1,'Not Log')"
      ]
     },
     "execution_count": 45,
     "metadata": {},
     "output_type": "execute_result"
    },
    {
     "data": {
      "image/png": "[encoded data removed]",
      "text/plain": [
       "<Figure size 432x288 with 1 Axes>"
      ]
     },
     "metadata": {},
     "output_type": "display_data"
    }
   ],
   "source": [
    "bins = np.linspace(0.0, 0.1, 10)\n",
    "plt.hist([dwayne_betm, dwayne_betf] ,bins , )\n",
    "plt.xlabel(\"Betweenness\")\n",
    "#plt.ylabel(\"Log Scale\")\n",
    "#plt.yscale(\"log\")\n",
    "plt.legend([\"Male\",\"Female\"])\n",
    "plt.title(\"Not Log\")"
   ]
  },
  {
   "cell_type": "markdown",
   "metadata": {},
   "source": [
    "### Scarlett Johansson Gender Comparison"
   ]
  },
  {
   "cell_type": "code",
   "execution_count": 46,
   "metadata": {},
   "outputs": [],
   "source": [
    "dwayne_file = \"ScarletteJoActors.graphml\""
   ]
  },
  {
   "cell_type": "code",
   "execution_count": 47,
   "metadata": {},
   "outputs": [],
   "source": [
    "dwayne = nx.read_graphml(dwayne_file)\n",
    "dwayneDict = dwayne.nodes(data=True)"
   ]
  },
  {
   "cell_type": "code",
   "execution_count": 48,
   "metadata": {},
   "outputs": [],
   "source": [
    "dwayne_deg = dict(nx.degree(dwayne, weight=\"weight\"))\n",
    "dwayne_bet = dict(nx.betweenness_centrality(dwayne, weight=\"weight\"))\n",
    "dwayne_clo = dict(nx.closeness_centrality(dwayne))"
   ]
  },
  {
   "cell_type": "code",
   "execution_count": null,
   "metadata": {},
   "outputs": [],
   "source": []
  },
  {
   "cell_type": "code",
   "execution_count": 49,
   "metadata": {},
   "outputs": [],
   "source": [
    "names = {actor:data['label'] for actor, data in dwayneDict}\n",
    "gender ={actor:data['gender'] for actor, data in dwayneDict}"
   ]
  },
  {
   "cell_type": "code",
   "execution_count": 50,
   "metadata": {},
   "outputs": [
    {
     "data": {
      "text/html": [
       "<div>\n",
       "<style scoped>\n",
       "    .dataframe tbody tr th:only-of-type {\n",
       "        vertical-align: middle;\n",
       "    }\n",
       "\n",
       "    .dataframe tbody tr th {\n",
       "        vertical-align: top;\n",
       "    }\n",
       "\n",
       "    .dataframe thead th {\n",
       "        text-align: right;\n",
       "    }\n",
       "</style>\n",
       "<table border=\"1\" class=\"dataframe\">\n",
       "  <thead>\n",
       "    <tr style=\"text-align: right;\">\n",
       "      <th></th>\n",
       "      <th>Wt Degree</th>\n",
       "      <th>bet</th>\n",
       "      <th>clo</th>\n",
       "      <th>Sex</th>\n",
       "    </tr>\n",
       "    <tr>\n",
       "      <th>Names</th>\n",
       "      <th></th>\n",
       "      <th></th>\n",
       "      <th></th>\n",
       "      <th></th>\n",
       "    </tr>\n",
       "  </thead>\n",
       "  <tbody>\n",
       "    <tr>\n",
       "      <th>&lt;Scarlett_Johansson&gt;</th>\n",
       "      <td>56</td>\n",
       "      <td>0.071382</td>\n",
       "      <td>0.390625</td>\n",
       "      <td>male</td>\n",
       "    </tr>\n",
       "    <tr>\n",
       "      <th>&lt;Sam_Neill&gt;</th>\n",
       "      <td>76</td>\n",
       "      <td>0.099540</td>\n",
       "      <td>0.322252</td>\n",
       "      <td>male</td>\n",
       "    </tr>\n",
       "    <tr>\n",
       "      <th>&lt;Robert_Redford&gt;</th>\n",
       "      <td>24</td>\n",
       "      <td>0.034070</td>\n",
       "      <td>0.232047</td>\n",
       "      <td>male</td>\n",
       "    </tr>\n",
       "    <tr>\n",
       "      <th>&lt;Kristin_Scott_Thomas&gt;</th>\n",
       "      <td>25</td>\n",
       "      <td>0.038956</td>\n",
       "      <td>0.316667</td>\n",
       "      <td>female</td>\n",
       "    </tr>\n",
       "    <tr>\n",
       "      <th>&lt;Chris_Evans_(actor)&gt;</th>\n",
       "      <td>60</td>\n",
       "      <td>0.025121</td>\n",
       "      <td>0.359033</td>\n",
       "      <td>male</td>\n",
       "    </tr>\n",
       "  </tbody>\n",
       "</table>\n",
       "</div>"
      ],
      "text/plain": [
       "                        Wt Degree       bet       clo     Sex\n",
       "Names                                                        \n",
       "<Scarlett_Johansson>           56  0.071382  0.390625    male\n",
       "<Sam_Neill>                    76  0.099540  0.322252    male\n",
       "<Robert_Redford>               24  0.034070  0.232047    male\n",
       "<Kristin_Scott_Thomas>         25  0.038956  0.316667  female\n",
       "<Chris_Evans_(actor)>          60  0.025121  0.359033    male"
      ]
     },
     "execution_count": 50,
     "metadata": {},
     "output_type": "execute_result"
    }
   ],
   "source": [
    "dwayne_df = pd.DataFrame({\"Wt Degree\": dwayne_deg, \"bet\":dwayne_bet, \"clo\":dwayne_clo, \"Names\": names, \"Sex\": gender})\n",
    "dwayne_df = dwayne_df.set_index(\"Names\")\n",
    "dwayne_df.head()"
   ]
  },
  {
   "cell_type": "code",
   "execution_count": 51,
   "metadata": {},
   "outputs": [],
   "source": [
    "dw_bool = dwayne_df['Sex'] == 'male' \n",
    "dw_filter = dwayne_df['bet'] != 0\n",
    "\n",
    "\n",
    "nonZeroBet = dwayne_df['bet'][dw_filter]\n",
    "nonZeroClo = dwayne_df['clo'][dw_filter]\n"
   ]
  },
  {
   "cell_type": "code",
   "execution_count": 52,
   "metadata": {},
   "outputs": [
    {
     "data": {
      "text/plain": [
       "<matplotlib.legend.Legend at 0xe0d6470>"
      ]
     },
     "execution_count": 52,
     "metadata": {},
     "output_type": "execute_result"
    },
    {
     "data": {
      "image/png": "[encoded data removed]",
      "text/plain": [
       "<Figure size 432x288 with 1 Axes>"
      ]
     },
     "metadata": {},
     "output_type": "display_data"
    }
   ],
   "source": [
    "nonZeroBet = dwayne_df['bet'][dw_filter]\n",
    "\n",
    "dwayne_betm = nonZeroBet[dw_bool]\n",
    "dwayne_clom = nonZeroClo[dw_bool]\n",
    "plt.plot( dwayne_betm, dwayne_clom, 'ob')\n",
    "\n",
    "dwayne_betf = nonZeroBet[~dw_bool]\n",
    "dwayne_clof = nonZeroClo[~dw_bool]\n",
    "plt.plot( dwayne_betf, dwayne_clof,  'or')\n",
    "\n",
    "\n",
    "plt.title('Male/Female')\n",
    "plt.ylabel('Betweenness')\n",
    "plt.xlabel('Closeness(log)')\n",
    "plt.legend(['Male', 'Female'])"
   ]
  },
  {
   "cell_type": "code",
   "execution_count": 53,
   "metadata": {},
   "outputs": [
    {
     "data": {
      "text/plain": [
       "159"
      ]
     },
     "execution_count": 53,
     "metadata": {},
     "output_type": "execute_result"
    }
   ],
   "source": [
    "type(dwayne_df['Sex'])\n",
    "males = dwayne_df['Sex'][dw_bool]\n",
    "len(males)\n",
    "females = dwayne_df['Sex'][~dw_bool]\n",
    "len(females)"
   ]
  },
  {
   "cell_type": "code",
   "execution_count": 54,
   "metadata": {},
   "outputs": [
    {
     "data": {
      "text/plain": [
       "Text(0.5,1,'Closeness in Males vs Females in SJO graph')"
      ]
     },
     "execution_count": 54,
     "metadata": {},
     "output_type": "execute_result"
    },
    {
     "data": {
      "image/png": "[encoded data removed]",
      "text/plain": [
       "<Figure size 432x288 with 1 Axes>"
      ]
     },
     "metadata": {},
     "output_type": "display_data"
    }
   ],
   "source": [
    "\n",
    "plt.hist([dwayne_clom, dwayne_clof]  , color = ['b', 'r'])\n",
    "#plt.hist(dwayne_betm , bins , alpha = 0.5, color = 'b')\n",
    "#plt.hist(dwayne_betf , bins,  alpha = 0.5, color = 'r')\n",
    "plt.xlabel(\"Closeness\")\n",
    "plt.legend([\"Male\",\"Female\"])\n",
    "plt.title(\"Closeness in Males vs Females in SJO graph\")"
   ]
  },
  {
   "cell_type": "code",
   "execution_count": 55,
   "metadata": {
    "scrolled": false
   },
   "outputs": [
    {
     "data": {
      "text/plain": [
       "([array([ 0.,  0.,  3.,  7., 16., 17., 66., 42., 33.]),\n",
       "  array([ 0.,  1.,  1.,  7., 10.,  8., 28., 28., 17.])],\n",
       " array([0.1       , 0.12222222, 0.14444444, 0.16666667, 0.18888889,\n",
       "        0.21111111, 0.23333333, 0.25555556, 0.27777778, 0.3       ]),\n",
       " <a list of 2 Lists of Patches objects>)"
      ]
     },
     "execution_count": 55,
     "metadata": {},
     "output_type": "execute_result"
    },
    {
     "data": {
      "image/png": "[encoded data removed]",
      "text/plain": [
       "<Figure size 432x288 with 1 Axes>"
      ]
     },
     "metadata": {},
     "output_type": "display_data"
    }
   ],
   "source": [
    "onlyZeroClo = dwayne_df['clo'][~dw_filter]\n",
    "\n",
    "femaleClo = onlyZeroClo[dw_bool]\n",
    "maleClo = onlyZeroClo[~dw_bool]\n",
    "bins = np.linspace(0.1, 0.3, 10)\n",
    "plt.hist([femaleClo, maleClo] , bins , color = ['b', 'r'])\n",
    "#plt.hist(maleClo , bins,  alpha = 0.5, color = 'r')"
   ]
  },
  {
   "cell_type": "code",
   "execution_count": 56,
   "metadata": {},
   "outputs": [
    {
     "data": {
      "text/plain": [
       "([array([ 3., 13., 23., 65., 98., 71., 25.,  3., 12.,  4.]),\n",
       "  array([ 3.,  7., 18., 25., 57., 31., 15.,  0.,  3.,  0.])],\n",
       " array([0.14247151, 0.16882265, 0.19517379, 0.22152493, 0.24787607,\n",
       "        0.27422721, 0.30057835, 0.32692949, 0.35328063, 0.37963177,\n",
       "        0.40598291]),\n",
       " <a list of 2 Lists of Patches objects>)"
      ]
     },
     "execution_count": 56,
     "metadata": {},
     "output_type": "execute_result"
    },
    {
     "data": {
      "image/png": "[encoded data removed]",
      "text/plain": [
       "<Figure size 432x288 with 1 Axes>"
      ]
     },
     "metadata": {},
     "output_type": "display_data"
    }
   ],
   "source": [
    "\n",
    "maleClo = dwayne_df['clo'][dw_bool]\n",
    "femaleClo = dwayne_df['clo'][~dw_bool]\n",
    "plt.hist([maleClo, femaleClo] , color = ['b', 'r'])"
   ]
  },
  {
   "cell_type": "code",
   "execution_count": 57,
   "metadata": {},
   "outputs": [
    {
     "data": {
      "text/plain": [
       "Text(0.5,1,'Male/Female Weighted Degree')"
      ]
     },
     "execution_count": 57,
     "metadata": {},
     "output_type": "execute_result"
    },
    {
     "data": {
      "image/png": "[encoded data removed]",
      "text/plain": [
       "<Figure size 432x288 with 1 Axes>"
      ]
     },
     "metadata": {},
     "output_type": "display_data"
    }
   ],
   "source": [
    "bins = np.linspace(0, 60,10)\n",
    "plt.hist([dwayne_df['Wt Degree'][dw_bool], dwayne_df['Wt Degree'][~dw_bool]], bins)\n",
    "plt.legend([\"Male\", \"Female\"])\n",
    "plt.title(\"Male/Female Weighted Degree\")\n",
    "#plt.axes(y = 'log')"
   ]
  },
  {
   "cell_type": "code",
   "execution_count": 58,
   "metadata": {
    "scrolled": false
   },
   "outputs": [
    {
     "data": {
      "text/plain": [
       "Text(0.5,1,'Betweenness in Males vs Females in SJO graph')"
      ]
     },
     "execution_count": 58,
     "metadata": {},
     "output_type": "execute_result"
    },
    {
     "data": {
      "image/png": "[encoded data removed]",
      "text/plain": [
       "<Figure size 432x288 with 1 Axes>"
      ]
     },
     "metadata": {},
     "output_type": "display_data"
    }
   ],
   "source": [
    "bins = np.linspace(0.0, 0.1, 10)\n",
    "plt.hist([dwayne_betm, dwayne_betf] ,bins , )\n",
    "plt.xlabel(\"Betweenness\")\n",
    "plt.ylabel(\"Log Scale\")\n",
    "plt.yscale(\"log\")\n",
    "plt.legend([\"Male\",\"Female\"])\n",
    "plt.title(\"Betweenness in Males vs Females in SJO graph\")"
   ]
  },
  {
   "cell_type": "markdown",
   "metadata": {},
   "source": [
    "# Profit Ratio Heatmap Comparison"
   ]
  },
  {
   "cell_type": "markdown",
   "metadata": {},
   "source": [
    "### Dwayne Profit Heatmap"
   ]
  },
  {
   "cell_type": "code",
   "execution_count": 59,
   "metadata": {},
   "outputs": [],
   "source": [
    "dwayne_file = \"autosaveDJO.graphml\""
   ]
  },
  {
   "cell_type": "code",
   "execution_count": 60,
   "metadata": {},
   "outputs": [],
   "source": [
    "dwayne = nx.read_graphml(dwayne_file)"
   ]
  },
  {
   "cell_type": "code",
   "execution_count": 61,
   "metadata": {},
   "outputs": [],
   "source": [
    "movies = [node for node, node_data in dwayne.nodes(data=True) if node_data['bipartite'] == 1]"
   ]
  },
  {
   "cell_type": "code",
   "execution_count": 62,
   "metadata": {},
   "outputs": [
    {
     "data": {
      "text/plain": [
       "2683"
      ]
     },
     "execution_count": 62,
     "metadata": {},
     "output_type": "execute_result"
    }
   ],
   "source": [
    "movieProjection = nx.bipartite.weighted_projected_graph(dwayne,movies)\n",
    "filtered = nx.Graph(movieProjection)\n",
    "len(filtered)"
   ]
  },
  {
   "cell_type": "code",
   "execution_count": 63,
   "metadata": {},
   "outputs": [],
   "source": [
    "to_remove = []\n",
    "for node, data in filtered.nodes(data=True):  \n",
    "    if(math.isnan(data['gross']) or math.isnan(data['budget'])):\n",
    "        to_remove.append(node)"
   ]
  },
  {
   "cell_type": "code",
   "execution_count": 64,
   "metadata": {},
   "outputs": [],
   "source": [
    "for item in to_remove:\n",
    "    filtered.remove_node(item)\n"
   ]
  },
  {
   "cell_type": "code",
   "execution_count": 65,
   "metadata": {},
   "outputs": [],
   "source": [
    "len(filtered.nodes(data=True))\n",
    "dwayne_gross = dict(nx.get_node_attributes(filtered, \"gross\"))\n",
    "dwayne_budget = dict(nx.get_node_attributes(filtered, \"budget\"))\n",
    "dwayne_names = dict(nx.get_node_attributes(filtered,\"label\"))"
   ]
  },
  {
   "cell_type": "code",
   "execution_count": 66,
   "metadata": {},
   "outputs": [],
   "source": [
    "df = pd.DataFrame({\"Name\":dwayne_names, \"Gross\": dwayne_gross, \"Budget\":dwayne_budget})\n"
   ]
  },
  {
   "cell_type": "code",
   "execution_count": 67,
   "metadata": {},
   "outputs": [
    {
     "data": {
      "text/plain": [
       "Text(0.5,1,'Log-log budget v ratio in DJO movies')"
      ]
     },
     "execution_count": 67,
     "metadata": {},
     "output_type": "execute_result"
    },
    {
     "data": {
      "image/png": "[encoded data removed]",
      "text/plain": [
       "<Figure size 432x288 with 1 Axes>"
      ]
     },
     "metadata": {},
     "output_type": "display_data"
    }
   ],
   "source": [
    "GB = df['Gross']/df['Budget']\n",
    "df['ratio'] = GB\n",
    "df.head()\n",
    "\n",
    "b = df['Budget']\n",
    "r = df['ratio']\n",
    "\n",
    "plt.loglog(df['Budget'],df['ratio'], 'og')\n",
    "#plt.ylim(0,30)\n",
    "plt.ylabel('Ratio')\n",
    "plt.xlabel('Budget')\n",
    "\n",
    "logx = np.log(b)\n",
    "logy = np.log(r)\n",
    "coeffs = np.polyfit(logx, logy, deg=3)\n",
    "poly = np.poly1d(coeffs)\n",
    "yfit = lambda x:np.exp(poly(np.log(x)))\n",
    "plt.loglog(b,yfit(b))\n",
    "plt.title(\"Log-log budget v ratio in DJO movies\")"
   ]
  },
  {
   "cell_type": "code",
   "execution_count": 68,
   "metadata": {},
   "outputs": [
    {
     "data": {
      "text/plain": [
       "9230769.23076923"
      ]
     },
     "execution_count": 68,
     "metadata": {},
     "output_type": "execute_result"
    }
   ],
   "source": [
    "max(df['ratio'])"
   ]
  },
  {
   "cell_type": "code",
   "execution_count": 69,
   "metadata": {
    "scrolled": true
   },
   "outputs": [
    {
     "data": {
      "text/plain": [
       "Text(0.5,1,'Profit Ratio Heatmap of DJO')"
      ]
     },
     "execution_count": 69,
     "metadata": {},
     "output_type": "execute_result"
    },
    {
     "data": {
      "image/png": "[encoded data removed]",
      "text/plain": [
       "<Figure size 432x288 with 2 Axes>"
      ]
     },
     "metadata": {},
     "output_type": "display_data"
    }
   ],
   "source": [
    "from matplotlib import cm as CM\n",
    "\n",
    "plt.hexbin(df['Budget'],df['ratio'], bins = 'log', yscale= 'log', xscale = 'log', cmap=CM.Greens, gridsize = 30)\n",
    "#plt.axis([df['Budget'].min(),df['Budget'].max(),df['ratio'].min(),df['ratio'].max() ])\n",
    "cb = plt.colorbar()\n",
    "cb.set_label(\"Avg # of Movies\")\n",
    "plt.ylabel('Profit ratio')\n",
    "plt.xlabel('Budget')\n",
    "plt.title(\"Profit Ratio Heatmap of DJO\")\n",
    "\n"
   ]
  },
  {
   "cell_type": "markdown",
   "metadata": {},
   "source": [
    "### Scarlett Profit ratio heatmap"
   ]
  },
  {
   "cell_type": "code",
   "execution_count": 70,
   "metadata": {},
   "outputs": [],
   "source": [
    "scarlett_file = \"autosaveSJO.graphml\""
   ]
  },
  {
   "cell_type": "code",
   "execution_count": 71,
   "metadata": {},
   "outputs": [],
   "source": [
    "scarlett = nx.read_graphml(scarlett_file)"
   ]
  },
  {
   "cell_type": "code",
   "execution_count": 72,
   "metadata": {},
   "outputs": [],
   "source": [
    "movies = [node for node, node_data in scarlett.nodes(data=True) if node_data['bipartite'] == 1]"
   ]
  },
  {
   "cell_type": "code",
   "execution_count": 73,
   "metadata": {},
   "outputs": [
    {
     "data": {
      "text/plain": [
       "3179"
      ]
     },
     "execution_count": 73,
     "metadata": {},
     "output_type": "execute_result"
    }
   ],
   "source": [
    "movieProjection = nx.bipartite.weighted_projected_graph(scarlett,movies)\n",
    "filtered = nx.Graph(movieProjection)\n",
    "len(filtered)"
   ]
  },
  {
   "cell_type": "code",
   "execution_count": 74,
   "metadata": {},
   "outputs": [],
   "source": [
    "to_remove = []\n",
    "for node, data in filtered.nodes(data=True):  \n",
    "    if(math.isnan(data['gross']) or math.isnan(data['budget'])):\n",
    "        to_remove.append(node)"
   ]
  },
  {
   "cell_type": "code",
   "execution_count": 75,
   "metadata": {},
   "outputs": [],
   "source": [
    "for item in to_remove:\n",
    "    filtered.remove_node(item)"
   ]
  },
  {
   "cell_type": "code",
   "execution_count": 76,
   "metadata": {},
   "outputs": [],
   "source": [
    "len(filtered.nodes(data=True))\n",
    "scarlett_gross = dict(nx.get_node_attributes(filtered, \"gross\"))\n",
    "scarlett_budget = dict(nx.get_node_attributes(filtered, \"budget\"))\n",
    "scarlett_names = dict(nx.get_node_attributes(filtered,\"label\"))"
   ]
  },
  {
   "cell_type": "code",
   "execution_count": 77,
   "metadata": {},
   "outputs": [],
   "source": [
    "df = pd.DataFrame({\"Name\":scarlett_names, \"Gross\": scarlett_gross, \"Budget\":scarlett_budget})\n"
   ]
  },
  {
   "cell_type": "code",
   "execution_count": 78,
   "metadata": {},
   "outputs": [
    {
     "data": {
      "text/plain": [
       "Text(0.5,1,'Log-log budget v ratio in SJO movies')"
      ]
     },
     "execution_count": 78,
     "metadata": {},
     "output_type": "execute_result"
    },
    {
     "data": {
      "image/png": "[encoded data removed]",
      "text/plain": [
       "<Figure size 432x288 with 1 Axes>"
      ]
     },
     "metadata": {},
     "output_type": "display_data"
    }
   ],
   "source": [
    "GB = df['Gross']/df['Budget']\n",
    "df['ratio'] = GB\n",
    "df.head()\n",
    "\n",
    "b = df['Budget']\n",
    "r = df['ratio']\n",
    "\n",
    "plt.loglog(df['Budget'],df['ratio'], 'og')\n",
    "#plt.ylim(0,30)\n",
    "plt.ylabel('Ratio')\n",
    "plt.xlabel('Budget')\n",
    "\n",
    "logx = np.log(b)\n",
    "logy = np.log(r)\n",
    "coeffs = np.polyfit(logx, logy, deg=3)\n",
    "poly = np.poly1d(coeffs)\n",
    "yfit = lambda x:np.exp(poly(np.log(x)))\n",
    "plt.loglog(b,yfit(b))\n",
    "plt.title(\"Log-log budget v ratio in SJO movies\")"
   ]
  },
  {
   "cell_type": "code",
   "execution_count": 79,
   "metadata": {},
   "outputs": [
    {
     "data": {
      "text/plain": [
       "1932367.1497584542"
      ]
     },
     "execution_count": 79,
     "metadata": {},
     "output_type": "execute_result"
    }
   ],
   "source": [
    "max(df['ratio'])"
   ]
  },
  {
   "cell_type": "code",
   "execution_count": 80,
   "metadata": {},
   "outputs": [],
   "source": [
    "plt.close()"
   ]
  },
  {
   "cell_type": "code",
   "execution_count": 81,
   "metadata": {},
   "outputs": [
    {
     "data": {
      "text/plain": [
       "Text(0.5,0,'Budget')"
      ]
     },
     "execution_count": 81,
     "metadata": {},
     "output_type": "execute_result"
    },
    {
     "data": {
      "image/png": "[encoded data removed]",
      "text/plain": [
       "<Figure size 432x288 with 1 Axes>"
      ]
     },
     "metadata": {},
     "output_type": "display_data"
    }
   ],
   "source": [
    "GB = df['Gross']/df['Budget']\n",
    "df['ratio'] = GB\n",
    "df.head()\n",
    "\n",
    "b = df['Budget']\n",
    "r = df['ratio']\n",
    "\n",
    "plt.loglog(df['Budget'],df['ratio'], 'og')\n",
    "#plt.ylim(0,30)\n",
    "plt.ylabel('Ratio')\n",
    "plt.xlabel('Budget')\n",
    "\n"
   ]
  },
  {
   "cell_type": "code",
   "execution_count": 82,
   "metadata": {
    "scrolled": false
   },
   "outputs": [
    {
     "data": {
      "text/plain": [
       "Text(0.5,1,'Profit Ratio Heatmap of SJO')"
      ]
     },
     "execution_count": 82,
     "metadata": {},
     "output_type": "execute_result"
    },
    {
     "data": {
      "image/png": "[encoded data removed]",
      "text/plain": [
       "<Figure size 432x288 with 2 Axes>"
      ]
     },
     "metadata": {},
     "output_type": "display_data"
    }
   ],
   "source": [
    "from matplotlib import cm as CM\n",
    "\n",
    "plt.hexbin(df['Budget'],df['ratio'], bins = 'log', yscale= 'log', xscale = 'log', cmap=CM.Greens, gridsize = 30)\n",
    "#plt.axis([df['Budget'].min(),df['Budget'].max(),df['ratio'].min(),df['ratio'].max() ])\n",
    "cb = plt.colorbar()\n",
    "cb.set_label(\"Avg # of Movies\")\n",
    "plt.ylabel('Profit ratio')\n",
    "plt.xlabel('Budget')\n",
    "plt.title(\"Profit Ratio Heatmap of SJO\")\n",
    "\n"
   ]
  },
  {
   "cell_type": "markdown",
   "metadata": {},
   "source": [
    "# Correlation Comparison"
   ]
  },
  {
   "cell_type": "code",
   "execution_count": 83,
   "metadata": {},
   "outputs": [],
   "source": [
    "dwayne_file = \"DwayneJohnsonActors.graphml\""
   ]
  },
  {
   "cell_type": "code",
   "execution_count": 84,
   "metadata": {},
   "outputs": [],
   "source": [
    "dwayne = nx.read_graphml(dwayne_file)"
   ]
  },
  {
   "cell_type": "code",
   "execution_count": 85,
   "metadata": {},
   "outputs": [],
   "source": [
    "dwayne_deg = dict(nx.degree(dwayne, weight=\"weight\"))"
   ]
  },
  {
   "cell_type": "code",
   "execution_count": 86,
   "metadata": {},
   "outputs": [],
   "source": [
    "dwayne_bet = dict(nx.betweenness_centrality(dwayne, weight=\"weight\"))"
   ]
  },
  {
   "cell_type": "code",
   "execution_count": 87,
   "metadata": {},
   "outputs": [],
   "source": [
    "dwayne_clo = dict(nx.closeness_centrality(dwayne))"
   ]
  },
  {
   "cell_type": "code",
   "execution_count": 88,
   "metadata": {},
   "outputs": [],
   "source": [
    "names = nx.get_node_attributes(dwayne, \"label\")"
   ]
  },
  {
   "cell_type": "code",
   "execution_count": 89,
   "metadata": {},
   "outputs": [
    {
     "data": {
      "text/html": [
       "<div>\n",
       "<style scoped>\n",
       "    .dataframe tbody tr th:only-of-type {\n",
       "        vertical-align: middle;\n",
       "    }\n",
       "\n",
       "    .dataframe tbody tr th {\n",
       "        vertical-align: top;\n",
       "    }\n",
       "\n",
       "    .dataframe thead th {\n",
       "        text-align: right;\n",
       "    }\n",
       "</style>\n",
       "<table border=\"1\" class=\"dataframe\">\n",
       "  <thead>\n",
       "    <tr style=\"text-align: right;\">\n",
       "      <th></th>\n",
       "      <th>Wt Degree</th>\n",
       "      <th>Betweenness</th>\n",
       "      <th>Closeness</th>\n",
       "    </tr>\n",
       "    <tr>\n",
       "      <th>Names</th>\n",
       "      <th></th>\n",
       "      <th></th>\n",
       "      <th></th>\n",
       "    </tr>\n",
       "  </thead>\n",
       "  <tbody>\n",
       "    <tr>\n",
       "      <th>&lt;Dwayne_Johnson&gt;</th>\n",
       "      <td>41</td>\n",
       "      <td>0.042909</td>\n",
       "      <td>0.264034</td>\n",
       "    </tr>\n",
       "    <tr>\n",
       "      <th>&lt;Ashley_Judd&gt;</th>\n",
       "      <td>21</td>\n",
       "      <td>0.020275</td>\n",
       "      <td>0.239298</td>\n",
       "    </tr>\n",
       "    <tr>\n",
       "      <th>&lt;Julie_Andrews&gt;</th>\n",
       "      <td>60</td>\n",
       "      <td>0.041406</td>\n",
       "      <td>0.237217</td>\n",
       "    </tr>\n",
       "    <tr>\n",
       "      <th>&lt;Wallace_Shawn&gt;</th>\n",
       "      <td>54</td>\n",
       "      <td>0.064670</td>\n",
       "      <td>0.252686</td>\n",
       "    </tr>\n",
       "    <tr>\n",
       "      <th>&lt;Miranda_Richardson&gt;</th>\n",
       "      <td>44</td>\n",
       "      <td>0.046704</td>\n",
       "      <td>0.276225</td>\n",
       "    </tr>\n",
       "  </tbody>\n",
       "</table>\n",
       "</div>"
      ],
      "text/plain": [
       "                      Wt Degree  Betweenness  Closeness\n",
       "Names                                                  \n",
       "<Dwayne_Johnson>             41     0.042909   0.264034\n",
       "<Ashley_Judd>                21     0.020275   0.239298\n",
       "<Julie_Andrews>              60     0.041406   0.237217\n",
       "<Wallace_Shawn>              54     0.064670   0.252686\n",
       "<Miranda_Richardson>         44     0.046704   0.276225"
      ]
     },
     "execution_count": 89,
     "metadata": {},
     "output_type": "execute_result"
    }
   ],
   "source": [
    "dwayne_df = pd.DataFrame({\"Wt Degree\": dwayne_deg, \"Betweenness\":dwayne_bet, \"Closeness\":dwayne_clo, \"Names\": names})\n",
    "dwayne_df = dwayne_df.set_index(\"Names\")\n",
    "dwayne_df.head()"
   ]
  },
  {
   "cell_type": "code",
   "execution_count": 90,
   "metadata": {},
   "outputs": [],
   "source": [
    "scarlett_file = \"ScarletteJoActors.graphml\""
   ]
  },
  {
   "cell_type": "code",
   "execution_count": 91,
   "metadata": {},
   "outputs": [],
   "source": [
    "scarlett = nx.read_graphml(scarlett_file)"
   ]
  },
  {
   "cell_type": "code",
   "execution_count": 92,
   "metadata": {},
   "outputs": [],
   "source": [
    "scar_deg = dict(nx.degree(scarlett, weight=\"weight\"))"
   ]
  },
  {
   "cell_type": "code",
   "execution_count": 93,
   "metadata": {},
   "outputs": [],
   "source": [
    "scar_bet = dict(nx.betweenness_centrality(scarlett, weight=\"weight\"))"
   ]
  },
  {
   "cell_type": "code",
   "execution_count": 94,
   "metadata": {},
   "outputs": [],
   "source": [
    "scar_clo = dict(nx.closeness_centrality(scarlett))"
   ]
  },
  {
   "cell_type": "code",
   "execution_count": 95,
   "metadata": {},
   "outputs": [],
   "source": [
    "names2 = nx.get_node_attributes(scarlett, \"label\")"
   ]
  },
  {
   "cell_type": "code",
   "execution_count": 96,
   "metadata": {},
   "outputs": [
    {
     "data": {
      "text/html": [
       "<div>\n",
       "<style scoped>\n",
       "    .dataframe tbody tr th:only-of-type {\n",
       "        vertical-align: middle;\n",
       "    }\n",
       "\n",
       "    .dataframe tbody tr th {\n",
       "        vertical-align: top;\n",
       "    }\n",
       "\n",
       "    .dataframe thead th {\n",
       "        text-align: right;\n",
       "    }\n",
       "</style>\n",
       "<table border=\"1\" class=\"dataframe\">\n",
       "  <thead>\n",
       "    <tr style=\"text-align: right;\">\n",
       "      <th></th>\n",
       "      <th>Wt Degree</th>\n",
       "      <th>Betweenness</th>\n",
       "      <th>Closeness</th>\n",
       "    </tr>\n",
       "    <tr>\n",
       "      <th>Names</th>\n",
       "      <th></th>\n",
       "      <th></th>\n",
       "      <th></th>\n",
       "    </tr>\n",
       "  </thead>\n",
       "  <tbody>\n",
       "    <tr>\n",
       "      <th>&lt;Scarlett_Johansson&gt;</th>\n",
       "      <td>56</td>\n",
       "      <td>0.071382</td>\n",
       "      <td>0.390625</td>\n",
       "    </tr>\n",
       "    <tr>\n",
       "      <th>&lt;Sam_Neill&gt;</th>\n",
       "      <td>76</td>\n",
       "      <td>0.099540</td>\n",
       "      <td>0.322252</td>\n",
       "    </tr>\n",
       "    <tr>\n",
       "      <th>&lt;Robert_Redford&gt;</th>\n",
       "      <td>24</td>\n",
       "      <td>0.034070</td>\n",
       "      <td>0.232047</td>\n",
       "    </tr>\n",
       "    <tr>\n",
       "      <th>&lt;Kristin_Scott_Thomas&gt;</th>\n",
       "      <td>25</td>\n",
       "      <td>0.038956</td>\n",
       "      <td>0.316667</td>\n",
       "    </tr>\n",
       "    <tr>\n",
       "      <th>&lt;Chris_Evans_(actor)&gt;</th>\n",
       "      <td>60</td>\n",
       "      <td>0.025121</td>\n",
       "      <td>0.359033</td>\n",
       "    </tr>\n",
       "  </tbody>\n",
       "</table>\n",
       "</div>"
      ],
      "text/plain": [
       "                        Wt Degree  Betweenness  Closeness\n",
       "Names                                                    \n",
       "<Scarlett_Johansson>           56     0.071382   0.390625\n",
       "<Sam_Neill>                    76     0.099540   0.322252\n",
       "<Robert_Redford>               24     0.034070   0.232047\n",
       "<Kristin_Scott_Thomas>         25     0.038956   0.316667\n",
       "<Chris_Evans_(actor)>          60     0.025121   0.359033"
      ]
     },
     "execution_count": 96,
     "metadata": {},
     "output_type": "execute_result"
    }
   ],
   "source": [
    "scar_df = pd.DataFrame({\"Wt Degree\": scar_deg, \"Betweenness\":scar_bet, \"Closeness\":scar_clo, \"Names\": names2})\n",
    "scar_df = scar_df.set_index(\"Names\")\n",
    "scar_df.head()"
   ]
  },
  {
   "cell_type": "code",
   "execution_count": 97,
   "metadata": {},
   "outputs": [
    {
     "data": {
      "text/html": [
       "<div>\n",
       "<style scoped>\n",
       "    .dataframe tbody tr th:only-of-type {\n",
       "        vertical-align: middle;\n",
       "    }\n",
       "\n",
       "    .dataframe tbody tr th {\n",
       "        vertical-align: top;\n",
       "    }\n",
       "\n",
       "    .dataframe thead th {\n",
       "        text-align: right;\n",
       "    }\n",
       "</style>\n",
       "<table border=\"1\" class=\"dataframe\">\n",
       "  <thead>\n",
       "    <tr style=\"text-align: right;\">\n",
       "      <th></th>\n",
       "      <th>Wt Degree</th>\n",
       "      <th>Betweenness</th>\n",
       "      <th>Closeness</th>\n",
       "    </tr>\n",
       "  </thead>\n",
       "  <tbody>\n",
       "    <tr>\n",
       "      <th>count</th>\n",
       "      <td>476.000000</td>\n",
       "      <td>476.000000</td>\n",
       "      <td>476.000000</td>\n",
       "    </tr>\n",
       "    <tr>\n",
       "      <th>mean</th>\n",
       "      <td>10.924370</td>\n",
       "      <td>0.006321</td>\n",
       "      <td>0.262667</td>\n",
       "    </tr>\n",
       "    <tr>\n",
       "      <th>std</th>\n",
       "      <td>17.027982</td>\n",
       "      <td>0.021485</td>\n",
       "      <td>0.039434</td>\n",
       "    </tr>\n",
       "    <tr>\n",
       "      <th>min</th>\n",
       "      <td>2.000000</td>\n",
       "      <td>0.000000</td>\n",
       "      <td>0.142472</td>\n",
       "    </tr>\n",
       "    <tr>\n",
       "      <th>25%</th>\n",
       "      <td>2.000000</td>\n",
       "      <td>0.000000</td>\n",
       "      <td>0.243653</td>\n",
       "    </tr>\n",
       "    <tr>\n",
       "      <th>50%</th>\n",
       "      <td>4.000000</td>\n",
       "      <td>0.000000</td>\n",
       "      <td>0.262867</td>\n",
       "    </tr>\n",
       "    <tr>\n",
       "      <th>75%</th>\n",
       "      <td>12.000000</td>\n",
       "      <td>0.003639</td>\n",
       "      <td>0.282402</td>\n",
       "    </tr>\n",
       "    <tr>\n",
       "      <th>max</th>\n",
       "      <td>153.000000</td>\n",
       "      <td>0.203777</td>\n",
       "      <td>0.405983</td>\n",
       "    </tr>\n",
       "  </tbody>\n",
       "</table>\n",
       "</div>"
      ],
      "text/plain": [
       "        Wt Degree  Betweenness   Closeness\n",
       "count  476.000000   476.000000  476.000000\n",
       "mean    10.924370     0.006321    0.262667\n",
       "std     17.027982     0.021485    0.039434\n",
       "min      2.000000     0.000000    0.142472\n",
       "25%      2.000000     0.000000    0.243653\n",
       "50%      4.000000     0.000000    0.262867\n",
       "75%     12.000000     0.003639    0.282402\n",
       "max    153.000000     0.203777    0.405983"
      ]
     },
     "execution_count": 97,
     "metadata": {},
     "output_type": "execute_result"
    }
   ],
   "source": [
    "scar_df.describe()"
   ]
  },
  {
   "cell_type": "code",
   "execution_count": 98,
   "metadata": {},
   "outputs": [
    {
     "data": {
      "text/html": [
       "<div>\n",
       "<style scoped>\n",
       "    .dataframe tbody tr th:only-of-type {\n",
       "        vertical-align: middle;\n",
       "    }\n",
       "\n",
       "    .dataframe tbody tr th {\n",
       "        vertical-align: top;\n",
       "    }\n",
       "\n",
       "    .dataframe thead th {\n",
       "        text-align: right;\n",
       "    }\n",
       "</style>\n",
       "<table border=\"1\" class=\"dataframe\">\n",
       "  <thead>\n",
       "    <tr style=\"text-align: right;\">\n",
       "      <th></th>\n",
       "      <th>Wt Degree</th>\n",
       "      <th>Betweenness</th>\n",
       "      <th>Closeness</th>\n",
       "    </tr>\n",
       "  </thead>\n",
       "  <tbody>\n",
       "    <tr>\n",
       "      <th>count</th>\n",
       "      <td>683.000000</td>\n",
       "      <td>683.000000</td>\n",
       "      <td>683.000000</td>\n",
       "    </tr>\n",
       "    <tr>\n",
       "      <th>mean</th>\n",
       "      <td>13.045388</td>\n",
       "      <td>0.005696</td>\n",
       "      <td>0.214796</td>\n",
       "    </tr>\n",
       "    <tr>\n",
       "      <th>std</th>\n",
       "      <td>14.781775</td>\n",
       "      <td>0.016389</td>\n",
       "      <td>0.028467</td>\n",
       "    </tr>\n",
       "    <tr>\n",
       "      <th>min</th>\n",
       "      <td>2.000000</td>\n",
       "      <td>0.000000</td>\n",
       "      <td>0.134517</td>\n",
       "    </tr>\n",
       "    <tr>\n",
       "      <th>25%</th>\n",
       "      <td>2.000000</td>\n",
       "      <td>0.000000</td>\n",
       "      <td>0.197338</td>\n",
       "    </tr>\n",
       "    <tr>\n",
       "      <th>50%</th>\n",
       "      <td>7.000000</td>\n",
       "      <td>0.000000</td>\n",
       "      <td>0.216096</td>\n",
       "    </tr>\n",
       "    <tr>\n",
       "      <th>75%</th>\n",
       "      <td>18.000000</td>\n",
       "      <td>0.002933</td>\n",
       "      <td>0.229205</td>\n",
       "    </tr>\n",
       "    <tr>\n",
       "      <th>max</th>\n",
       "      <td>119.000000</td>\n",
       "      <td>0.154023</td>\n",
       "      <td>0.310990</td>\n",
       "    </tr>\n",
       "  </tbody>\n",
       "</table>\n",
       "</div>"
      ],
      "text/plain": [
       "        Wt Degree  Betweenness   Closeness\n",
       "count  683.000000   683.000000  683.000000\n",
       "mean    13.045388     0.005696    0.214796\n",
       "std     14.781775     0.016389    0.028467\n",
       "min      2.000000     0.000000    0.134517\n",
       "25%      2.000000     0.000000    0.197338\n",
       "50%      7.000000     0.000000    0.216096\n",
       "75%     18.000000     0.002933    0.229205\n",
       "max    119.000000     0.154023    0.310990"
      ]
     },
     "execution_count": 98,
     "metadata": {},
     "output_type": "execute_result"
    }
   ],
   "source": [
    "dwayne_df.describe()"
   ]
  },
  {
   "cell_type": "code",
   "execution_count": 122,
   "metadata": {},
   "outputs": [
    {
     "data": {
      "text/plain": [
       "Text(0.5,0.98,'Dwayne Johnson Correlation')"
      ]
     },
     "execution_count": 122,
     "metadata": {},
     "output_type": "execute_result"
    },
    {
     "data": {
      "image/png": "[encoded data removed]",
      "text/plain": [
       "<Figure size 540x540 with 12 Axes>"
      ]
     },
     "metadata": {},
     "output_type": "display_data"
    }
   ],
   "source": [
    "g = sbn.PairGrid(dwayne_df)\n",
    "g.map_upper(plt.scatter)\n",
    "g.map_diag(plt.hist)\n",
    "g.map_lower(plt.scatter)\n",
    "\n",
    "\n",
    "g.fig.suptitle(\"Dwayne Johnson Correlation\")"
   ]
  },
  {
   "cell_type": "code",
   "execution_count": 100,
   "metadata": {},
   "outputs": [
    {
     "data": {
      "text/plain": [
       "['<Michael_Caine>', '<Michael_Caine>', '<Harvey_Keitel>']"
      ]
     },
     "execution_count": 100,
     "metadata": {},
     "output_type": "execute_result"
    }
   ],
   "source": [
    "centralities = ['Wt Degree', 'Betweenness', 'Closeness']\n",
    "\n",
    "top_dwayne = [dwayne_df[centrality].sort_values(ascending=False).index[0] for centrality in centralities]\n",
    "top_dwayne"
   ]
  },
  {
   "cell_type": "code",
   "execution_count": 117,
   "metadata": {},
   "outputs": [
    {
     "data": {
      "text/plain": [
       "Text(0.5,0.98,'Scarlett Johansson Correlation')"
      ]
     },
     "execution_count": 117,
     "metadata": {},
     "output_type": "execute_result"
    },
    {
     "data": {
      "image/png": "[encoded data removed]",
      "text/plain": [
       "<Figure size 540x540 with 12 Axes>"
      ]
     },
     "metadata": {},
     "output_type": "display_data"
    }
   ],
   "source": [
    "g2 = sbn.PairGrid(scar_df)\n",
    "#g2.map_offdiag(plt.hexbin)\n",
    "g2.map_diag(plt.hist)\n",
    "g2.map_lower(plt.scatter)\n",
    "g2.map_upper\n",
    "g2.fig.suptitle(\"Scarlett Johansson Correlation\")"
   ]
  },
  {
   "cell_type": "code",
   "execution_count": 102,
   "metadata": {},
   "outputs": [
    {
     "data": {
      "text/html": [
       "<div>\n",
       "<style scoped>\n",
       "    .dataframe tbody tr th:only-of-type {\n",
       "        vertical-align: middle;\n",
       "    }\n",
       "\n",
       "    .dataframe tbody tr th {\n",
       "        vertical-align: top;\n",
       "    }\n",
       "\n",
       "    .dataframe thead th {\n",
       "        text-align: right;\n",
       "    }\n",
       "</style>\n",
       "<table border=\"1\" class=\"dataframe\">\n",
       "  <thead>\n",
       "    <tr style=\"text-align: right;\">\n",
       "      <th></th>\n",
       "      <th>Wt Degree</th>\n",
       "      <th>Betweenness</th>\n",
       "      <th>Closeness</th>\n",
       "    </tr>\n",
       "  </thead>\n",
       "  <tbody>\n",
       "    <tr>\n",
       "      <th>Wt Degree</th>\n",
       "      <td>1.000000</td>\n",
       "      <td>0.633914</td>\n",
       "      <td>0.380429</td>\n",
       "    </tr>\n",
       "    <tr>\n",
       "      <th>Betweenness</th>\n",
       "      <td>0.633914</td>\n",
       "      <td>1.000000</td>\n",
       "      <td>0.521715</td>\n",
       "    </tr>\n",
       "    <tr>\n",
       "      <th>Closeness</th>\n",
       "      <td>0.380429</td>\n",
       "      <td>0.521715</td>\n",
       "      <td>1.000000</td>\n",
       "    </tr>\n",
       "  </tbody>\n",
       "</table>\n",
       "</div>"
      ],
      "text/plain": [
       "             Wt Degree  Betweenness  Closeness\n",
       "Wt Degree     1.000000     0.633914   0.380429\n",
       "Betweenness   0.633914     1.000000   0.521715\n",
       "Closeness     0.380429     0.521715   1.000000"
      ]
     },
     "execution_count": 102,
     "metadata": {},
     "output_type": "execute_result"
    }
   ],
   "source": [
    "dwayne_corr = dwayne_df.corr()\n",
    "dwayne_corr"
   ]
  },
  {
   "cell_type": "code",
   "execution_count": 103,
   "metadata": {
    "scrolled": true
   },
   "outputs": [
    {
     "data": {
      "text/html": [
       "<div>\n",
       "<style scoped>\n",
       "    .dataframe tbody tr th:only-of-type {\n",
       "        vertical-align: middle;\n",
       "    }\n",
       "\n",
       "    .dataframe tbody tr th {\n",
       "        vertical-align: top;\n",
       "    }\n",
       "\n",
       "    .dataframe thead th {\n",
       "        text-align: right;\n",
       "    }\n",
       "</style>\n",
       "<table border=\"1\" class=\"dataframe\">\n",
       "  <thead>\n",
       "    <tr style=\"text-align: right;\">\n",
       "      <th></th>\n",
       "      <th>Wt Degree</th>\n",
       "      <th>Betweenness</th>\n",
       "      <th>Closeness</th>\n",
       "    </tr>\n",
       "  </thead>\n",
       "  <tbody>\n",
       "    <tr>\n",
       "      <th>Wt Degree</th>\n",
       "      <td>1.000000</td>\n",
       "      <td>0.830302</td>\n",
       "      <td>0.667208</td>\n",
       "    </tr>\n",
       "    <tr>\n",
       "      <th>Betweenness</th>\n",
       "      <td>0.830302</td>\n",
       "      <td>1.000000</td>\n",
       "      <td>0.503810</td>\n",
       "    </tr>\n",
       "    <tr>\n",
       "      <th>Closeness</th>\n",
       "      <td>0.667208</td>\n",
       "      <td>0.503810</td>\n",
       "      <td>1.000000</td>\n",
       "    </tr>\n",
       "  </tbody>\n",
       "</table>\n",
       "</div>"
      ],
      "text/plain": [
       "             Wt Degree  Betweenness  Closeness\n",
       "Wt Degree     1.000000     0.830302   0.667208\n",
       "Betweenness   0.830302     1.000000   0.503810\n",
       "Closeness     0.667208     0.503810   1.000000"
      ]
     },
     "execution_count": 103,
     "metadata": {},
     "output_type": "execute_result"
    }
   ],
   "source": [
    "scar_corr = scar_df.corr()\n",
    "scar_corr"
   ]
  },
  {
   "cell_type": "code",
   "execution_count": null,
   "metadata": {},
   "outputs": [],
   "source": []
  }
 ],
 "metadata": {
  "kernelspec": {
   "display_name": "Python 3",
   "language": "python",
   "name": "python3"
  },
  "language_info": {
   "codemirror_mode": {
    "name": "ipython",
    "version": 3
   },
   "file_extension": ".py",
   "mimetype": "text/x-python",
   "name": "python",
   "nbconvert_exporter": "python",
   "pygments_lexer": "ipython3",
   "version": "3.6.5"
  }
 },
 "nbformat": 4,
 "nbformat_minor": 2
}
