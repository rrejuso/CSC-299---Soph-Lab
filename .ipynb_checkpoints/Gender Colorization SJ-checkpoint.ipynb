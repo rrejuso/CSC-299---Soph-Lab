{
 "cells": [
  {
   "cell_type": "code",
   "execution_count": 1,
   "metadata": {},
   "outputs": [],
   "source": [
    "import networkx as nx\n",
    "import matplotlib.pyplot as plt\n",
    "import urllib\n",
    "%matplotlib inline \n",
    "import scipy as sp\n",
    "import numpy as np\n",
    "import pandas as pd\n",
    "import seaborn as sb\n",
    "%load_ext autoreload\n",
    "import math"
   ]
  },
  {
   "cell_type": "code",
   "execution_count": 2,
   "metadata": {},
   "outputs": [],
   "source": [
    "%autoreload"
   ]
  },
  {
   "cell_type": "code",
   "execution_count": 3,
   "metadata": {},
   "outputs": [],
   "source": [
    "dwayne_file = \"ScarletteJoActors.graphml\""
   ]
  },
  {
   "cell_type": "code",
   "execution_count": 4,
   "metadata": {},
   "outputs": [],
   "source": [
    "dwayne = nx.read_graphml(dwayne_file)\n",
    "dwayneDict = dwayne.nodes(data=True)"
   ]
  },
  {
   "cell_type": "code",
   "execution_count": 5,
   "metadata": {},
   "outputs": [],
   "source": [
    "dwayne_deg = dict(nx.degree(dwayne, weight=\"weight\"))\n",
    "dwayne_bet = dict(nx.betweenness_centrality(dwayne, weight=\"weight\"))\n",
    "dwayne_clo = dict(nx.closeness_centrality(dwayne))"
   ]
  },
  {
   "cell_type": "code",
   "execution_count": null,
   "metadata": {},
   "outputs": [],
   "source": []
  },
  {
   "cell_type": "code",
   "execution_count": 7,
   "metadata": {},
   "outputs": [],
   "source": [
    "names = {actor:data['label'] for actor, data in dwayneDict}\n",
    "gender ={actor:data['gender'] for actor, data in dwayneDict}"
   ]
  },
  {
   "cell_type": "code",
   "execution_count": 8,
   "metadata": {},
   "outputs": [
    {
     "data": {
      "text/html": [
       "<div>\n",
       "<style scoped>\n",
       "    .dataframe tbody tr th:only-of-type {\n",
       "        vertical-align: middle;\n",
       "    }\n",
       "\n",
       "    .dataframe tbody tr th {\n",
       "        vertical-align: top;\n",
       "    }\n",
       "\n",
       "    .dataframe thead th {\n",
       "        text-align: right;\n",
       "    }\n",
       "</style>\n",
       "<table border=\"1\" class=\"dataframe\">\n",
       "  <thead>\n",
       "    <tr style=\"text-align: right;\">\n",
       "      <th></th>\n",
       "      <th>Wt Degree</th>\n",
       "      <th>bet</th>\n",
       "      <th>clo</th>\n",
       "      <th>Sex</th>\n",
       "    </tr>\n",
       "    <tr>\n",
       "      <th>Names</th>\n",
       "      <th></th>\n",
       "      <th></th>\n",
       "      <th></th>\n",
       "      <th></th>\n",
       "    </tr>\n",
       "  </thead>\n",
       "  <tbody>\n",
       "    <tr>\n",
       "      <th>&lt;Scarlett_Johansson&gt;</th>\n",
       "      <td>56</td>\n",
       "      <td>0.047083</td>\n",
       "      <td>0.348363</td>\n",
       "      <td>male</td>\n",
       "    </tr>\n",
       "    <tr>\n",
       "      <th>&lt;Sam_Neill&gt;</th>\n",
       "      <td>76</td>\n",
       "      <td>0.074588</td>\n",
       "      <td>0.297706</td>\n",
       "      <td>male</td>\n",
       "    </tr>\n",
       "    <tr>\n",
       "      <th>&lt;Robert_Redford&gt;</th>\n",
       "      <td>24</td>\n",
       "      <td>0.021763</td>\n",
       "      <td>0.243527</td>\n",
       "      <td>male</td>\n",
       "    </tr>\n",
       "    <tr>\n",
       "      <th>&lt;Kristin_Scott_Thomas&gt;</th>\n",
       "      <td>25</td>\n",
       "      <td>0.021838</td>\n",
       "      <td>0.287295</td>\n",
       "      <td>female</td>\n",
       "    </tr>\n",
       "    <tr>\n",
       "      <th>&lt;Chris_Evans_(actor)&gt;</th>\n",
       "      <td>60</td>\n",
       "      <td>0.018414</td>\n",
       "      <td>0.318762</td>\n",
       "      <td>male</td>\n",
       "    </tr>\n",
       "  </tbody>\n",
       "</table>\n",
       "</div>"
      ],
      "text/plain": [
       "                        Wt Degree       bet       clo     Sex\n",
       "Names                                                        \n",
       "<Scarlett_Johansson>           56  0.047083  0.348363    male\n",
       "<Sam_Neill>                    76  0.074588  0.297706    male\n",
       "<Robert_Redford>               24  0.021763  0.243527    male\n",
       "<Kristin_Scott_Thomas>         25  0.021838  0.287295  female\n",
       "<Chris_Evans_(actor)>          60  0.018414  0.318762    male"
      ]
     },
     "execution_count": 8,
     "metadata": {},
     "output_type": "execute_result"
    }
   ],
   "source": [
    "dwayne_df = pd.DataFrame({\"Wt Degree\": dwayne_deg, \"bet\":dwayne_bet, \"clo\":dwayne_clo, \"Names\": names, \"Sex\": gender})\n",
    "dwayne_df = dwayne_df.set_index(\"Names\")\n",
    "dwayne_df.head()"
   ]
  },
  {
   "cell_type": "code",
   "execution_count": 9,
   "metadata": {},
   "outputs": [],
   "source": [
    "dw_bool = dwayne_df['Sex'] == 'male' \n",
    "dw_filter = dwayne_df['bet'] != 0\n",
    "\n",
    "#dw_bool\n",
    "#dw_filter\n",
    "nonZeroBet = dwayne_df['bet'][dw_filter]\n",
    "nonZeroClo = dwayne_df['clo'][dw_filter]\n",
    "#nonZeroBet[~dw_bool]"
   ]
  },
  {
   "cell_type": "code",
   "execution_count": 28,
   "metadata": {},
   "outputs": [
    {
     "data": {
      "text/plain": [
       "<matplotlib.legend.Legend at 0x5463630>"
      ]
     },
     "execution_count": 28,
     "metadata": {},
     "output_type": "execute_result"
    },
    {
     "data": {
      "image/png": "[encoded data removed]",
      "text/plain": [
       "<Figure size 432x288 with 1 Axes>"
      ]
     },
     "metadata": {},
     "output_type": "display_data"
    }
   ],
   "source": [
    "nonZeroBet = dwayne_df['bet'][dw_filter]\n",
    "\n",
    "dwayne_betm = nonZeroBet[dw_bool]\n",
    "dwayne_clom = nonZeroClo[dw_bool]\n",
    "plt.plot( dwayne_betm, dwayne_clom, 'ob')\n",
    "\n",
    "dwayne_betf = nonZeroBet[~dw_bool]\n",
    "dwayne_clof = nonZeroClo[~dw_bool]\n",
    "plt.plot( dwayne_betf, dwayne_clof,  'or')\n",
    "#dwayne_clo = dwayne_df['clo']\n",
    "\n",
    "\n",
    "\n",
    "\n",
    "#ga_age_mon = dwayne_df['age'][~dwayne_df['mon']]\n",
    "#ga_clo_mon = dwayne_df['clo'][~dwayne_df['mon']]\n",
    "\n",
    "\n",
    "#plt.plot( ga_age_mon, ga_clo_mon , 'or')\n",
    "\n",
    "plt.title('Male/Female')\n",
    "plt.ylabel('Betweenness')\n",
    "plt.xlabel('Closeness(log)')\n",
    "plt.legend(['Male', 'Female'])"
   ]
  },
  {
   "cell_type": "code",
   "execution_count": 25,
   "metadata": {},
   "outputs": [
    {
     "data": {
      "text/plain": [
       "219"
      ]
     },
     "execution_count": 25,
     "metadata": {},
     "output_type": "execute_result"
    }
   ],
   "source": [
    "type(dwayne_df['Sex'])\n",
    "males = dwayne_df['Sex'][dw_bool]\n",
    "len(males)\n",
    "females = dwayne_df['Sex'][~dw_bool]\n",
    "len(females)"
   ]
  },
  {
   "cell_type": "code",
   "execution_count": 102,
   "metadata": {},
   "outputs": [
    {
     "data": {
      "text/plain": [
       "Text(0.5,1,'Closeness in Males vs Females in SJO graph')"
      ]
     },
     "execution_count": 102,
     "metadata": {},
     "output_type": "execute_result"
    },
    {
     "data": {
      "image/png": "[encoded data removed]",
      "text/plain": [
       "<Figure size 432x288 with 1 Axes>"
      ]
     },
     "metadata": {},
     "output_type": "display_data"
    }
   ],
   "source": [
    "\n",
    "plt.hist([dwayne_clom, dwayne_clof]  , color = ['b', 'r'])\n",
    "#plt.hist(dwayne_betm , bins , alpha = 0.5, color = 'b')\n",
    "#plt.hist(dwayne_betf , bins,  alpha = 0.5, color = 'r')\n",
    "plt.xlabel(\"Closeness\")\n",
    "plt.legend([\"Male\",\"Female\"])\n",
    "plt.title(\"Closeness in Males vs Females in SJO graph\")"
   ]
  },
  {
   "cell_type": "code",
   "execution_count": 79,
   "metadata": {
    "scrolled": false
   },
   "outputs": [
    {
     "data": {
      "text/plain": [
       "([array([ 0.,  0.,  9., 11., 38., 82., 67., 31.,  0.]),\n",
       "  array([ 0.,  0.,  4.,  9., 19., 50., 37., 15.,  6.])],\n",
       " array([0.1       , 0.12222222, 0.14444444, 0.16666667, 0.18888889,\n",
       "        0.21111111, 0.23333333, 0.25555556, 0.27777778, 0.3       ]),\n",
       " <a list of 2 Lists of Patches objects>)"
      ]
     },
     "execution_count": 79,
     "metadata": {},
     "output_type": "execute_result"
    },
    {
     "data": {
      "image/png": "[encoded data removed]",
      "text/plain": [
       "<Figure size 432x288 with 1 Axes>"
      ]
     },
     "metadata": {},
     "output_type": "display_data"
    }
   ],
   "source": [
    "onlyZeroClo = dwayne_df['clo'][~dw_filter]\n",
    "\n",
    "femaleClo = onlyZeroClo[dw_bool]\n",
    "maleClo = onlyZeroClo[~dw_bool]\n",
    "bins = np.linspace(0.1, 0.3, 10)\n",
    "plt.hist([femaleClo, maleClo] , bins , color = ['b', 'r'])\n",
    "#plt.hist(maleClo , bins,  alpha = 0.5, color = 'r')"
   ]
  },
  {
   "cell_type": "code",
   "execution_count": 91,
   "metadata": {},
   "outputs": [
    {
     "data": {
      "text/plain": [
       "([array([  9.,  21.,  47., 103., 116.,  82.,  26.,  17.,   6.,   4.]),\n",
       "  array([ 4., 14., 28., 59., 56., 36., 16.,  6.,  0.,  0.])],\n",
       " array([0.15040556, 0.171949  , 0.19349243, 0.21503587, 0.2365793 ,\n",
       "        0.25812274, 0.27966617, 0.30120961, 0.32275304, 0.34429648,\n",
       "        0.36583991]),\n",
       " <a list of 2 Lists of Patches objects>)"
      ]
     },
     "execution_count": 91,
     "metadata": {},
     "output_type": "execute_result"
    },
    {
     "data": {
      "image/png": "[encoded data removed]",
      "text/plain": [
       "<Figure size 432x288 with 1 Axes>"
      ]
     },
     "metadata": {},
     "output_type": "display_data"
    }
   ],
   "source": [
    "\n",
    "maleClo = dwayne_df['clo'][dw_bool]\n",
    "femaleClo = dwayne_df['clo'][~dw_bool]\n",
    "plt.hist([maleClo, femaleClo] , color = ['b', 'r'])"
   ]
  },
  {
   "cell_type": "code",
   "execution_count": 101,
   "metadata": {},
   "outputs": [
    {
     "data": {
      "text/plain": [
       "Text(0.5,1,'Male/Female Weighted Degree')"
      ]
     },
     "execution_count": 101,
     "metadata": {},
     "output_type": "execute_result"
    },
    {
     "data": {
      "image/png": "[encoded data removed]",
      "text/plain": [
       "<Figure size 432x288 with 1 Axes>"
      ]
     },
     "metadata": {},
     "output_type": "display_data"
    }
   ],
   "source": [
    "bins = np.linspace(0, 60,10)\n",
    "plt.hist([dwayne_df['Wt Degree'][dw_bool], dwayne_df['Wt Degree'][~dw_bool]], bins)\n",
    "plt.legend([\"Male\", \"Female\"])\n",
    "plt.title(\"Male/Female Weighted Degree\")\n",
    "#plt.axes(y = 'log')"
   ]
  },
  {
   "cell_type": "code",
   "execution_count": 112,
   "metadata": {},
   "outputs": [
    {
     "data": {
      "text/plain": [
       "Text(0.5,1,'Betweenness in Males vs Females in SJO graph')"
      ]
     },
     "execution_count": 112,
     "metadata": {},
     "output_type": "execute_result"
    },
    {
     "data": {
      "image/png": "[encoded data removed]",
      "text/plain": [
       "<Figure size 432x288 with 1 Axes>"
      ]
     },
     "metadata": {},
     "output_type": "display_data"
    }
   ],
   "source": [
    "bins = np.linspace(0.0, 0.1, 10)\n",
    "plt.hist([dwayne_betm, dwayne_betf] ,bins , )\n",
    "plt.xlabel(\"Betweenness\")\n",
    "plt.ylabel(\"Log Scale\")\n",
    "plt.yscale(\"log\")\n",
    "plt.legend([\"Male\",\"Female\"])\n",
    "plt.title(\"Betweenness in Males vs Females in SJO graph\")"
   ]
  },
  {
   "cell_type": "code",
   "execution_count": null,
   "metadata": {},
   "outputs": [],
   "source": []
  }
 ],
 "metadata": {
  "kernelspec": {
   "display_name": "Python 3",
   "language": "python",
   "name": "python3"
  },
  "language_info": {
   "codemirror_mode": {
    "name": "ipython",
    "version": 3
   },
   "file_extension": ".py",
   "mimetype": "text/x-python",
   "name": "python",
   "nbconvert_exporter": "python",
   "pygments_lexer": "ipython3",
   "version": "3.6.5"
  }
 },
 "nbformat": 4,
 "nbformat_minor": 2
}
