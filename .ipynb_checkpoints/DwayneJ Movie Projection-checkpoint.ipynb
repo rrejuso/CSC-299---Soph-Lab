{
 "cells": [
  {
   "cell_type": "code",
   "execution_count": 2,
   "metadata": {},
   "outputs": [],
   "source": [
    "import networkx as nx\n",
    "import pandas as pd\n",
    "import numpy as np\n",
    "import matplotlib.pyplot as plt\n",
    "import seaborn as sbn\n",
    "%matplotlib inline\n"
   ]
  },
  {
   "cell_type": "code",
   "execution_count": 3,
   "metadata": {},
   "outputs": [],
   "source": [
    "dwayne_file = \"autosaveDJO.graphml\""
   ]
  },
  {
   "cell_type": "code",
   "execution_count": 4,
   "metadata": {},
   "outputs": [
    {
     "name": "stdout",
     "output_type": "stream",
     "text": [
      "[('100', {'label': '<Dwayne_Johnson>', 'bipartite': 0, '_depth': 0, '_expanded': 1, 'gender': 'male'}), ('101', {'label': '<Tooth_Fairy_(2010_film)>', 'bipartite': 1, '_depth': 1, '_expanded': 1, 'gross': 48000000.0, 'budget': 112500000.0}), ('102', {'label': '<Southland_Tales>', 'bipartite': 1, '_depth': 1, '_expanded': 1, 'gross': 17000000.0, 'budget': 374743.0}), ('103', {'label': '<Gridiron_Gang>', 'bipartite': 1, '_depth': 1, '_expanded': 1, 'gross': 30000000.0, 'budget': 179480851.0}), ('104', {'label': '<San_Andreas_(film)>', 'bipartite': 1, '_depth': 1, '_expanded': 1, 'gross': 110000000.0, 'budget': 474000000.0})]\n"
     ]
    }
   ],
   "source": [
    "dwayne = nx.read_graphml(dwayne_file)\n",
    "print(list(dwayne.nodes(data=True))[0:5])"
   ]
  },
  {
   "cell_type": "code",
   "execution_count": 5,
   "metadata": {},
   "outputs": [],
   "source": [
    "movies = [node for node, nodedata in dwayne.nodes(data=True) if nodedata['bipartite'] == 1]"
   ]
  },
  {
   "cell_type": "code",
   "execution_count": 6,
   "metadata": {},
   "outputs": [],
   "source": [
    "movieProjection = nx.bipartite.weighted_projected_graph(dwayne, movies)\n",
    "filtered = nx.Graph(movieProjection)\n",
    "\n",
    "to_remove = [(n1, n2) for n1,n2,data in movieProjection.edges(data=True) if data['weight'] < 2]\n",
    "filtered.remove_edges_from(to_remove)\n",
    "giant_cc_nodes = max(nx.connected_components(filtered), key = len)\n",
    "filtered2 = filtered.subgraph(giant_cc_nodes)\n",
    "labels = {nodeId:data['label'] for nodeId, data in filtered2.nodes(data=True)}\n",
    "\n",
    "#remove 0 budget\n",
    "\n"
   ]
  },
  {
   "cell_type": "code",
   "execution_count": 41,
   "metadata": {},
   "outputs": [
    {
     "name": "stdout",
     "output_type": "stream",
     "text": [
      "296\n"
     ]
    }
   ],
   "source": [
    "filtered3 = filtered2.copy()\n",
    "\n",
    "print(len(filtered2.nodes(data=True)))\n",
    "NanMovies = [n1 for n1, data in filtered2.nodes(data=True) if np.isnan(data['gross']) or np.isnan(data['budget'])]\n",
    "#len(NanMovies)\n",
    "\n",
    "filtered3.remove_nodes_from(NanMovies)\n"
   ]
  },
  {
   "cell_type": "code",
   "execution_count": 7,
   "metadata": {},
   "outputs": [
    {
     "ename": "NameError",
     "evalue": "name 'filtered3' is not defined",
     "output_type": "error",
     "traceback": [
      "\u001b[1;31m---------------------------------------------------------------------------\u001b[0m",
      "\u001b[1;31mNameError\u001b[0m                                 Traceback (most recent call last)",
      "\u001b[1;32m<ipython-input-7-ffc32e487ba0>\u001b[0m in \u001b[0;36m<module>\u001b[1;34m()\u001b[0m\n\u001b[1;32m----> 1\u001b[1;33m \u001b[0mprint\u001b[0m\u001b[1;33m(\u001b[0m\u001b[0mlen\u001b[0m\u001b[1;33m(\u001b[0m\u001b[0mfiltered2\u001b[0m \u001b[1;33m)\u001b[0m \u001b[1;33m==\u001b[0m \u001b[0mlen\u001b[0m\u001b[1;33m(\u001b[0m\u001b[0mfiltered3\u001b[0m\u001b[1;33m)\u001b[0m\u001b[1;33m)\u001b[0m\u001b[1;33m\u001b[0m\u001b[0m\n\u001b[0m",
      "\u001b[1;31mNameError\u001b[0m: name 'filtered3' is not defined"
     ]
    }
   ],
   "source": [
    "print(len(filtered2 ) == len(filtered3))"
   ]
  },
  {
   "cell_type": "code",
   "execution_count": 1,
   "metadata": {},
   "outputs": [
    {
     "ename": "NameError",
     "evalue": "name 'filtered3' is not defined",
     "output_type": "error",
     "traceback": [
      "\u001b[1;31m---------------------------------------------------------------------------\u001b[0m",
      "\u001b[1;31mNameError\u001b[0m                                 Traceback (most recent call last)",
      "\u001b[1;32m<ipython-input-1-1e9f99b8cade>\u001b[0m in \u001b[0;36m<module>\u001b[1;34m()\u001b[0m\n\u001b[1;32m----> 1\u001b[1;33m \u001b[0mmovies\u001b[0m \u001b[1;33m=\u001b[0m \u001b[1;33m[\u001b[0m\u001b[1;33m(\u001b[0m\u001b[0mnode\u001b[0m\u001b[1;33m,\u001b[0m\u001b[0mnodedata\u001b[0m\u001b[1;33m)\u001b[0m \u001b[1;32mfor\u001b[0m \u001b[0mnode\u001b[0m\u001b[1;33m,\u001b[0m \u001b[0mnodedata\u001b[0m \u001b[1;32min\u001b[0m \u001b[0mfiltered3\u001b[0m\u001b[1;33m.\u001b[0m\u001b[0mnodes\u001b[0m\u001b[1;33m(\u001b[0m\u001b[0mdata\u001b[0m\u001b[1;33m=\u001b[0m\u001b[1;32mTrue\u001b[0m\u001b[1;33m)\u001b[0m \u001b[1;32mif\u001b[0m \u001b[0mnodedata\u001b[0m\u001b[1;33m[\u001b[0m\u001b[1;34m'bipartite'\u001b[0m\u001b[1;33m]\u001b[0m \u001b[1;33m==\u001b[0m \u001b[1;36m1\u001b[0m\u001b[1;33m]\u001b[0m\u001b[1;33m\u001b[0m\u001b[0m\n\u001b[0m",
      "\u001b[1;31mNameError\u001b[0m: name 'filtered3' is not defined"
     ]
    }
   ],
   "source": [
    "movies = [(node,nodedata) for node, nodedata in filtered3.nodes(data=True) if nodedata['bipartite'] == 1]\n"
   ]
  },
  {
   "cell_type": "code",
   "execution_count": 66,
   "metadata": {},
   "outputs": [
    {
     "data": {
      "text/plain": [
       "{'307': '<Kiss_the_Girls_(1997_film)>',\n",
       " '910': '<Falling_in_Love_(1984_film)>',\n",
       " '1446': '<Legion_(2010_film)>',\n",
       " '612': '<Confidence_(2003_film)>',\n",
       " '1789': '<Mindhunters>',\n",
       " '1720': '<Dudley_Do-Right_(film)>',\n",
       " '1214': '<Battle_for_Terra>',\n",
       " '1487': '<Flight_of_the_Phoenix_(2004_film)>',\n",
       " '1411': '<Takers>',\n",
       " '565': '<Miami_Rhapsody>',\n",
       " '1069': '<Swingers_(1996_film)>',\n",
       " '1909': '<Excess_Baggage_(1997_film)>',\n",
       " '1907': '<Biloxi_Blues_(film)>',\n",
       " '1361': '<Better_Luck_Tomorrow>',\n",
       " '1926': '<The_Funeral_(1996_film)>',\n",
       " '522': '<Movie_43>',\n",
       " '119': '<G.I._Joe:_Retaliation>',\n",
       " '1075': '<The_Break-Up>',\n",
       " '367': '<The_Curse_of_the_Jade_Scorpion>',\n",
       " '1903': '<The_Deer_Hunter>',\n",
       " '1537': '<Magnolia_(film)>',\n",
       " '767': '<The_Witches_of_Eastwick_(film)>',\n",
       " '679': '<Red_Planet_(film)>',\n",
       " '449': '<Cruel_Intentions>',\n",
       " '1597': '<Secondhand_Lions>',\n",
       " '1201': '<Alvin_and_the_Chipmunks:_The_Road_Chip>',\n",
       " '1173': '<Murder_in_the_First_(film)>',\n",
       " '1374': '<Find_Me_Guilty>',\n",
       " '858': '<A_Civil_Action_(film)>',\n",
       " '124': '<G.I._Joe_(film_series)>',\n",
       " '1394': '<2_Fast_2_Furious>',\n",
       " '926': '<The_Last_Temptation_of_Christ_(film)>',\n",
       " '1900': '<Antz>',\n",
       " '1065': '<The_Internship>',\n",
       " '1990': '<Death_at_a_Funeral_(2007_film)>',\n",
       " '2037': '<Snow_White_and_the_Huntsman>',\n",
       " '1453': '<Chaos_(2005_Capitol_film)>',\n",
       " '1160': '<Tinker_Tailor_Soldier_Spy_(film)>',\n",
       " '1059': '<DodgeBall:_A_True_Underdog_Story>',\n",
       " '2238': '<G.I._Joe:_The_Rise_of_Cobra>',\n",
       " '907': '<Mean_Streets>',\n",
       " '815': '<The_Expendables_2>',\n",
       " '2085': '<Indiana_Jones_and_the_Kingdom_of_the_Crystal_Skull>',\n",
       " '1324': '<John_Carter_(film)>',\n",
       " '324': '<Gnomeo_&_Juliet>',\n",
       " '877': \"<She's_So_Lovely>\",\n",
       " '1380': '<The_Fast_and_the_Furious_(2001_film)>',\n",
       " '917': '<From_Dusk_till_Dawn>',\n",
       " '360': '<The_Princess_Bride_(film)>',\n",
       " '1169': '<JFK_(film)>',\n",
       " '1009': '<The_Producers_(2005_film)>',\n",
       " '570': '<The_One_(2001_film)>',\n",
       " '1589': '<Now_You_See_Me_(film)>',\n",
       " '1390': '<Crash_(2004_film)>',\n",
       " '1152': '<The_Contender_(2000_film)>',\n",
       " '1912': \"<Heaven's_Gate_(film)>\",\n",
       " '816': '<The_Hunger_Games_(film)>',\n",
       " '1499': '<Once_Upon_a_Time_in_Mexico>',\n",
       " '605': '<Turbo_(film)>',\n",
       " '111': '<The_Fast_and_the_Furious>',\n",
       " '1074': '<The_Cell>',\n",
       " '1071': '<Starsky_&_Hutch_(film)>',\n",
       " '1200': '<Alvin_and_the_Chipmunks:_Chipwrecked>',\n",
       " '453': '<Scooby-Doo_(film)>',\n",
       " '1538': '<Punch-Drunk_Love>',\n",
       " '564': '<Spy_Kids_2:_The_Island_of_Lost_Dreams>',\n",
       " '1591': '<Interstellar_(film)>',\n",
       " '520': '<Role_Models>',\n",
       " '1212': '<The_Conspirator>',\n",
       " '1412': \"<She's_All_That>\",\n",
       " '301': '<Dolphin_Tale>',\n",
       " '1430': '<Machete_Kills>',\n",
       " '985': '<Mad_Dog_and_Glory>',\n",
       " '451': '<I_Know_What_You_Did_Last_Summer>',\n",
       " '988': '<Batman_(1989_film_series)>',\n",
       " '369': \"<Happily_N'Ever_After>\",\n",
       " '1427': '<S.W.A.T._(film)>',\n",
       " '1202': '<Alvin_and_the_Chipmunks:_The_Squeakquel>',\n",
       " '1377': '<The_Chronicles_of_Riddick>',\n",
       " '919': '<Cop_Land>',\n",
       " '1418': '<Varsity_Blues_(film)>',\n",
       " '1004': '<Playing_for_Keeps_(2012_film)>',\n",
       " '990': '<Even_Cowgirls_Get_the_Blues_(film)>',\n",
       " '1062': '<The_Watch_(2012_film)>',\n",
       " '299': '<High_Crimes>',\n",
       " '538': '<Hoodwinked!>',\n",
       " '1922': '<Search_and_Destroy_(film)>',\n",
       " '1434': '<Machete_(film)>',\n",
       " '673': '<Traffic_(2000_film)>',\n",
       " '102': '<Southland_Tales>',\n",
       " '454': '<Scooby-Doo_2:_Monsters_Unleashed>',\n",
       " '898': '<Little_Fockers>',\n",
       " '1072': '<Wedding_Crashers>',\n",
       " '699': '<The_Ghost_Writer_(film)>',\n",
       " '812': '<The_Hunger_Games:_Mockingjay_–_Part_1>',\n",
       " '989': '<Batman_&_Robin_(film)>',\n",
       " '1168': '<Basquiat_(film)>',\n",
       " '863': '<The_Thin_Red_Line_(1998_film)>',\n",
       " '1745': '<Definitely,_Maybe>',\n",
       " '411': '<Fred_Claus>',\n",
       " '363': '<The_Moderns>',\n",
       " '1426': '<Battle:_Los_Angeles>',\n",
       " '108': '<Planet_51>',\n",
       " '651': '<King_Arthur_(film)>',\n",
       " '294': '<Heat_(1995_film)>',\n",
       " '563': '<Spy_Kids_(franchise)>',\n",
       " '1113': '<Valiant_(film)>',\n",
       " '820': '<The_Hunger_Games_(film_series)>',\n",
       " '1161': '<A_Christmas_Carol_(2009_film)>',\n",
       " '1585': '<Hurry_Sundown_(film)>',\n",
       " '567': '<Spy_Kids_3-D:_Game_Over>',\n",
       " '1925': '<At_Close_Range>',\n",
       " '915': '<The_Bridge_of_San_Luis_Rey_(2004_film)>',\n",
       " '862': '<Swordfish_(film)>',\n",
       " '2204': '<Red_2_(film)>',\n",
       " '1256': '<U_Turn_(1997_film)>',\n",
       " '481': '<She_Hate_Me>',\n",
       " '2006': '<Triple_9>',\n",
       " '1176': '<True_Romance>',\n",
       " '2244': '<Stop-Loss_(film)>',\n",
       " '1468': '<War_(2007_film)>',\n",
       " '562': '<Spy_Kids>',\n",
       " '323': '<Jackboots_on_Whitehall>',\n",
       " '1727': '<Blast_from_the_Past_(film)>',\n",
       " '610': '<Duets_(film)>',\n",
       " '623': '<Lady_in_the_Water>',\n",
       " '1855': '<Supernova_(2000_film)>',\n",
       " '116': '<The_Rundown>',\n",
       " '2074': '<Wild_Bill_(1995_film)>',\n",
       " '298': '<Olympus_Has_Fallen>',\n",
       " '1204': '<Alvin_and_the_Chipmunks_(film_series)>',\n",
       " '865': '<The_Taking_of_Pelham_123_(2009_film)>',\n",
       " '1058': '<Couples_Retreat>',\n",
       " '1929': '<Kill_the_Irishman>',\n",
       " '1221': '<Waiting..._(film)>',\n",
       " '2686': '<Conan_the_Barbarian_(2011_film)>',\n",
       " '1554': '<The_Kids_Are_All_Right_(film)>',\n",
       " '903': '<Red_Dragon_(film)>',\n",
       " '1609': '<Now_You_See_Me_2>',\n",
       " '1584': '<The_Honorary_Consul_(film)>',\n",
       " '1700': '<The_Mummy_(1999_film)>',\n",
       " '1454': '<The_Expendables_(2010_film)>',\n",
       " '1557': \"<Cirque_du_Freak:_The_Vampire's_Assistant>\",\n",
       " '1162': '<Lawless_(film)>',\n",
       " '859': '<Blow_Out>',\n",
       " '2042': '<Sexy_Beast>',\n",
       " '813': '<The_Hunger_Games:_Mockingjay_–_Part_2>',\n",
       " '1392': '<RocknRolla>',\n",
       " '1535': '<Anger_Management_(film)>',\n",
       " '615': '<12_Years_a_Slave_(film)>',\n",
       " '1086': '<Summer_Catch>',\n",
       " '998': '<Jennifer_8>',\n",
       " '1154': '<Dawn_of_the_Planet_of_the_Apes>',\n",
       " '1401': '<Annapolis_(film)>',\n",
       " '1721': '<Escape_from_Planet_Earth>',\n",
       " '2192': '<Looper_(film)>',\n",
       " '871': '<Domestic_Disturbance>',\n",
       " '819': '<Paranoia_(2013_film)>',\n",
       " '1899': '<The_Stepford_Wives_(2004_film)>',\n",
       " '1726': '<The_Mummy:_Tomb_of_the_Dragon_Emperor>',\n",
       " '1363': '<The_Fast_and_the_Furious:_Tokyo_Drift>',\n",
       " '1092': '<Blade:_Trinity>',\n",
       " '923': '<The_Grand_Budapest_Hotel>',\n",
       " '114': '<The_Mummy_Returns>',\n",
       " '107': '<Be_Cool>',\n",
       " '590': '<Hall_Pass>',\n",
       " '1070': '<The_Lost_World:_Jurassic_Park>',\n",
       " '572': '<The_Mighty_Macs>',\n",
       " '1203': '<Alvin_and_the_Chipmunks_(film)>',\n",
       " '1159': '<Criminal_(2016_film)>',\n",
       " '1220': '<Alpha_and_Omega_(film)>',\n",
       " '994': '<Dangerous_Liaisons>',\n",
       " '632': \"<Barney's_Version_(film)>\",\n",
       " '852': '<Phenomenon_(film)>',\n",
       " '118': '<Hercules_(2014_film)>',\n",
       " '1165': '<RoboCop_(2014_film)>',\n",
       " '2046': '<Cuban_Fury>',\n",
       " '1207': '<Going_the_Distance_(2010_film)>',\n",
       " '854': '<Savages_(2012_film)>',\n",
       " '1175': '<Air_Force_One_(film)>',\n",
       " '1393': '<Gamer_(film)>',\n",
       " '1063': '<Psycho_(1998_film)>',\n",
       " '1171': '<Quest_for_Camelot>',\n",
       " '1213': \"<He's_Just_Not_That_Into_You_(film)>\",\n",
       " '604': '<The_Ides_of_March_(film)>',\n",
       " '911': '<Wise_Guys_(1986_film)>',\n",
       " '1098': \"<New_Year's_Eve_(film)>\",\n",
       " '1155': '<The_Dark_Knight_Trilogy>',\n",
       " '652': '<W._(film)>',\n",
       " '1462': '<The_Expendables_3>',\n",
       " '1061': '<Made_(2001_film)>',\n",
       " '1532': '<Welcome_to_Collinwood>',\n",
       " '302': '<Dolphin_Tale_2>',\n",
       " '1921': '<The_Power_of_Few>',\n",
       " '851': '<Wild_Hogs>',\n",
       " '525': '<The_Dukes_of_Hazzard_(film)>',\n",
       " '1376': '<Pitch_Black_(film)>',\n",
       " '1740': '<Runaway_Jury>',\n",
       " '741': '<The_Big_Wedding>'}"
      ]
     },
     "execution_count": 66,
     "metadata": {},
     "output_type": "execute_result"
    }
   ],
   "source": [
    "names = {movie:data['label'] for movie, data in movies}\n",
    "names"
   ]
  },
  {
   "cell_type": "code",
   "execution_count": 67,
   "metadata": {},
   "outputs": [
    {
     "data": {
      "image/png": "[encoded data removed]",
      "text/plain": [
       "<Figure size 432x288 with 1 Axes>"
      ]
     },
     "metadata": {},
     "output_type": "display_data"
    }
   ],
   "source": [
    "nx.set_node_attributes(filtered3, names, name = \"Names\")\n",
    "\n",
    "\n",
    "nx.draw(filtered3)\n",
    "\n",
    "nx.write_graphml(filtered3, \"DwayneJohnsonMOVIESFiltered.graphml\")\n"
   ]
  },
  {
   "cell_type": "code",
   "execution_count": null,
   "metadata": {},
   "outputs": [],
   "source": []
  },
  {
   "cell_type": "code",
   "execution_count": null,
   "metadata": {},
   "outputs": [],
   "source": []
  },
  {
   "cell_type": "code",
   "execution_count": null,
   "metadata": {},
   "outputs": [],
   "source": []
  }
 ],
 "metadata": {
  "kernelspec": {
   "display_name": "Python 3",
   "language": "python",
   "name": "python3"
  },
  "language_info": {
   "codemirror_mode": {
    "name": "ipython",
    "version": 3
   },
   "file_extension": ".py",
   "mimetype": "text/x-python",
   "name": "python",
   "nbconvert_exporter": "python",
   "pygments_lexer": "ipython3",
   "version": "3.6.5"
  }
 },
 "nbformat": 4,
 "nbformat_minor": 2
}
