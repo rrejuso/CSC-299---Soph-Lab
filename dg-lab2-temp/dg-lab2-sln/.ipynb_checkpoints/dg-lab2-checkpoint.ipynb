{
 "cells": [
  {
   "cell_type": "markdown",
   "metadata": {},
   "source": [
    "Data Gathering Lab 2\n",
    "--------------------\n",
    "\n",
    "Imports"
   ]
  },
  {
   "cell_type": "code",
   "execution_count": 1,
   "metadata": {},
   "outputs": [],
   "source": [
    "import networkx as nx\n",
    "import matplotlib.pyplot as plt\n",
    "%matplotlib inline "
   ]
  },
  {
   "cell_type": "code",
   "execution_count": 2,
   "metadata": {},
   "outputs": [],
   "source": [
    "%autoreload     # This is Jupyter notebook that will reload changed files\n",
    "from crawler import Crawler\n",
    "from crawler_state import CrawlerState\n",
    "from crawler_abst_api import CrawlerAbstractAPI\n",
    "from crawler_my_api import MyAPI"
   ]
  },
  {
   "cell_type": "markdown",
   "metadata": {},
   "source": [
    "## Note on Nodes\n",
    "Nodes in the network have special bookkeeping attributes. These should not be changed. The content attributes will vary based on your specific application.\n",
    "### Bookkeeping Attributes\n",
    "- `id` -- attribute based on the order instantiated via the crawl. Note that it must be converted from a number to a string so that it can be read back in again from GraphML.\n",
    "- `_expanded` -- 1 if the nodes children have been generated\n",
    "- `_depth` -- the distance of this node from the origin node or nodes\n",
    "\n",
    "### Content Attributes\n",
    "It's a silly example where users have random names and associated random planets. Users are connected via a small number of randomly-generated tags.\n",
    "- `label` -- the name of the user (user nodes only) or the tag string (tag nodes only)\n",
    "- `planet` -- the planet the user is from (user nodes only)\n",
    "- `bipartite` -- will be 0 from users and 1 for tags\n"
   ]
  },
  {
   "cell_type": "markdown",
   "metadata": {},
   "source": [
    "# Tests for MyAPI\n",
    "Not very rigorous testing"
   ]
  },
  {
   "cell_type": "code",
   "execution_count": 3,
   "metadata": {},
   "outputs": [],
   "source": [
    "api = MyAPI()\n",
    "c = Crawler(2, api)"
   ]
  },
  {
   "cell_type": "code",
   "execution_count": 4,
   "metadata": {},
   "outputs": [
    {
     "name": "stdout",
     "output_type": "stream",
     "text": [
      "initial_node seems to be working\n"
     ]
    }
   ],
   "source": [
    "setup = api.initial_node()\n",
    "if setup[0] == '#Foo' and setup[1] == '100':\n",
    "    print('initial_node seems to be working')"
   ]
  },
  {
   "cell_type": "code",
   "execution_count": 5,
   "metadata": {},
   "outputs": [
    {
     "name": "stdout",
     "output_type": "stream",
     "text": [
      "make_names_url seems to be working\n"
     ]
    }
   ],
   "source": [
    "names_query = api.make_names_url('#Foo Bar')\n",
    "if names_query == 'http://josquin.cti.depaul.edu/~rburke/cgi-bin/get-users.py?q=%23Foo+Bar':\n",
    "    print('make_names_url seems to be working')"
   ]
  },
  {
   "cell_type": "code",
   "execution_count": 6,
   "metadata": {},
   "outputs": [
    {
     "name": "stdout",
     "output_type": "stream",
     "text": [
      "make_tags_url seems to be working\n"
     ]
    },
    {
     "data": {
      "text/plain": [
       "'http://josquin.cti.depaul.edu/~rburke/cgi-bin/get-tags.py?q=John+Doe'"
      ]
     },
     "execution_count": 6,
     "metadata": {},
     "output_type": "execute_result"
    }
   ],
   "source": [
    "tags_query = api.make_tags_url('John Doe')\n",
    "if tags_query == 'http://josquin.cti.depaul.edu/~rburke/cgi-bin/get-tags.py?q=John+Doe':\n",
    "    print('make_tags_url seems to be working')\n",
    "tags_query"
   ]
  },
  {
   "cell_type": "code",
   "execution_count": 7,
   "metadata": {},
   "outputs": [
    {
     "name": "stdout",
     "output_type": "stream",
     "text": [
      "make_node_user seems to be working\n"
     ]
    }
   ],
   "source": [
    "user_node = api.make_node_user(\"John Doe\", \"Earth\", 1)\n",
    "if c._net.nodes[user_node]['planet'] == \"Earth\":\n",
    "    print('make_node_user seems to be working')"
   ]
  },
  {
   "cell_type": "code",
   "execution_count": 8,
   "metadata": {},
   "outputs": [
    {
     "name": "stdout",
     "output_type": "stream",
     "text": [
      "make_node_tag seems to be working\n"
     ]
    }
   ],
   "source": [
    "tag_node = api.make_node_tag('#Foo Bar', 1)\n",
    "if (c._net.nodes[tag_node]['label'] == '#Foo Bar'):\n",
    "    print('make_node_tag seems to be working')"
   ]
  },
  {
   "cell_type": "code",
   "execution_count": 9,
   "metadata": {},
   "outputs": [
    {
     "name": "stdout",
     "output_type": "stream",
     "text": [
      "execute_names_query seems to be working\n"
     ]
    }
   ],
   "source": [
    "result = api.execute_names_query('#Foo')\n",
    "if result[0] and type(result[1] is list):\n",
    "    print('execute_names_query seems to be working')"
   ]
  },
  {
   "cell_type": "code",
   "execution_count": 10,
   "metadata": {},
   "outputs": [
    {
     "name": "stdout",
     "output_type": "stream",
     "text": [
      "execute_tags_query seems to be working\n"
     ]
    }
   ],
   "source": [
    "result = api.execute_tags_query('John Doe')\n",
    "if result[0] and type(result[1] is list):\n",
    "    print('execute_tags_query seems to be working')"
   ]
  },
  {
   "cell_type": "markdown",
   "metadata": {},
   "source": [
    "# For the Lab"
   ]
  },
  {
   "cell_type": "code",
   "execution_count": 11,
   "metadata": {},
   "outputs": [],
   "source": [
    "api = MyAPI()\n",
    "c = Crawler(3, api)\n",
    "c.initialize()"
   ]
  },
  {
   "cell_type": "code",
   "execution_count": 12,
   "metadata": {},
   "outputs": [
    {
     "name": "stdout",
     "output_type": "stream",
     "text": [
      "Expanding node: 100\n",
      "Expanding node: 101\n"
     ]
    },
    {
     "data": {
      "text/plain": [
       "True"
      ]
     },
     "execution_count": 12,
     "metadata": {},
     "output_type": "execute_result"
    }
   ],
   "source": [
    "c.crawl_k(2)"
   ]
  },
  {
   "cell_type": "code",
   "execution_count": 13,
   "metadata": {},
   "outputs": [
    {
     "data": {
      "image/png": "[encoded data removed]",
      "text/plain": [
       "<matplotlib.figure.Figure at 0xa13e6bf60>"
      ]
     },
     "metadata": {},
     "output_type": "display_data"
    }
   ],
   "source": [
    "nx.draw(c._net)"
   ]
  },
  {
   "cell_type": "code",
   "execution_count": 14,
   "metadata": {},
   "outputs": [
    {
     "data": {
      "text/plain": [
       "deque(['102', '103', '104', '105'])"
      ]
     },
     "execution_count": 14,
     "metadata": {},
     "output_type": "execute_result"
    }
   ],
   "source": [
    "c._state._open"
   ]
  },
  {
   "cell_type": "code",
   "execution_count": 15,
   "metadata": {},
   "outputs": [
    {
     "data": {
      "text/plain": [
       "[('101',\n",
       "  {'_depth': 1,\n",
       "   '_expanded': 1,\n",
       "   'bipartite': 0,\n",
       "   'label': 'oZcV',\n",
       "   'planet': 'BHSO_4551'}),\n",
       " ('102',\n",
       "  {'_depth': 1,\n",
       "   '_expanded': 0,\n",
       "   'bipartite': 0,\n",
       "   'label': 'khCu',\n",
       "   'planet': 'SZOM_6159'}),\n",
       " ('103', {'_depth': 2, '_expanded': 0, 'bipartite': 1, 'label': '#ab'}),\n",
       " ('104', {'_depth': 2, '_expanded': 0, 'bipartite': 1, 'label': '#af'})]"
      ]
     },
     "execution_count": 15,
     "metadata": {},
     "output_type": "execute_result"
    }
   ],
   "source": [
    "list(c._net.nodes(data=True))[1:5]"
   ]
  },
  {
   "cell_type": "code",
   "execution_count": 16,
   "metadata": {},
   "outputs": [
    {
     "data": {
      "text/plain": [
       "{'khCu': '102', 'oZcV': '101'}"
      ]
     },
     "execution_count": 16,
     "metadata": {},
     "output_type": "execute_result"
    }
   ],
   "source": [
    "c._state._visited0"
   ]
  },
  {
   "cell_type": "code",
   "execution_count": 17,
   "metadata": {},
   "outputs": [
    {
     "data": {
      "text/plain": [
       "{'#Foo': '100', '#ab': '103', '#af': '104', '#aj': '105'}"
      ]
     },
     "execution_count": 17,
     "metadata": {},
     "output_type": "execute_result"
    }
   ],
   "source": [
    "c._state._visited1"
   ]
  },
  {
   "cell_type": "code",
   "execution_count": 18,
   "metadata": {},
   "outputs": [
    {
     "data": {
      "text/plain": [
       "6"
      ]
     },
     "execution_count": 18,
     "metadata": {},
     "output_type": "execute_result"
    }
   ],
   "source": [
    "c.to_files(\"out.graphml\", \"out.json\")\n",
    "len(c._net.nodes())"
   ]
  },
  {
   "cell_type": "code",
   "execution_count": 19,
   "metadata": {},
   "outputs": [],
   "source": [
    "c2 = Crawler(5, api)\n",
    "c2.from_files(\"out.graphml\", \"out.json\")"
   ]
  },
  {
   "cell_type": "code",
   "execution_count": 20,
   "metadata": {},
   "outputs": [
    {
     "name": "stdout",
     "output_type": "stream",
     "text": [
      "Expanding node: 102\n",
      "API call failed on node 102. Error 1.\n",
      "{'label': 'khCu', 'bipartite': 0, '_depth': 1, '_expanded': 0, 'planet': 'SZOM_6159'}\n",
      "Expanding node: 102\n",
      "Expanding node: 103\n",
      "Expanding node: 104\n",
      "Expanding node: 105\n",
      "Expanding node: 106\n",
      "Expanding node: 107\n",
      "Expanding node: 108\n",
      "Expanding node: 109\n",
      "Expanding node: 110\n",
      "Expanding node: 111\n",
      "Expanding node: 112\n",
      "Expanding node: 113\n",
      "Expanding node: 114\n",
      "Expanding node: 115\n",
      "Expanding node: 116\n"
     ]
    },
    {
     "data": {
      "text/plain": [
       "True"
      ]
     },
     "execution_count": 20,
     "metadata": {},
     "output_type": "execute_result"
    }
   ],
   "source": [
    "c2.crawl_k(15)"
   ]
  },
  {
   "cell_type": "code",
   "execution_count": 21,
   "metadata": {},
   "outputs": [
    {
     "data": {
      "text/plain": [
       "[('100', {'_depth': 0, '_expanded': 1, 'bipartite': 1, 'label': '#Foo'}),\n",
       " ('101',\n",
       "  {'_depth': 1,\n",
       "   '_expanded': 1,\n",
       "   'bipartite': 0,\n",
       "   'label': 'oZcV',\n",
       "   'planet': 'BHSO_4551'}),\n",
       " ('102',\n",
       "  {'_depth': 1,\n",
       "   '_expanded': 1,\n",
       "   'bipartite': 0,\n",
       "   'label': 'khCu',\n",
       "   'planet': 'SZOM_6159'}),\n",
       " ('103', {'_depth': 2, '_expanded': 1, 'bipartite': 1, 'label': '#ab'}),\n",
       " ('104', {'_depth': 2, '_expanded': 1, 'bipartite': 1, 'label': '#af'}),\n",
       " ('105', {'_depth': 2, '_expanded': 1, 'bipartite': 1, 'label': '#aj'}),\n",
       " ('106', {'_depth': 2, '_expanded': 1, 'bipartite': 1, 'label': '#ai'}),\n",
       " ('107', {'_depth': 2, '_expanded': 1, 'bipartite': 1, 'label': '#ag'}),\n",
       " ('108', {'_depth': 2, '_expanded': 1, 'bipartite': 1, 'label': '#ad'}),\n",
       " ('109',\n",
       "  {'_depth': 3,\n",
       "   '_expanded': 0,\n",
       "   'bipartite': 0,\n",
       "   'label': 'eREt',\n",
       "   'planet': 'CUFO_0809'}),\n",
       " ('110',\n",
       "  {'_depth': 3,\n",
       "   '_expanded': 0,\n",
       "   'bipartite': 0,\n",
       "   'label': 'bbZi',\n",
       "   'planet': 'UKNI_3077'}),\n",
       " ('111',\n",
       "  {'_depth': 3,\n",
       "   '_expanded': 0,\n",
       "   'bipartite': 0,\n",
       "   'label': 'CbzR',\n",
       "   'planet': 'YXFO_2961'}),\n",
       " ('112',\n",
       "  {'_depth': 3,\n",
       "   '_expanded': 0,\n",
       "   'bipartite': 0,\n",
       "   'label': 'aGUg',\n",
       "   'planet': 'YGTV_5507'}),\n",
       " ('113',\n",
       "  {'_depth': 3,\n",
       "   '_expanded': 0,\n",
       "   'bipartite': 0,\n",
       "   'label': 'uFoD',\n",
       "   'planet': 'QCGI_2448'}),\n",
       " ('114',\n",
       "  {'_depth': 3,\n",
       "   '_expanded': 0,\n",
       "   'bipartite': 0,\n",
       "   'label': 'BOGJ',\n",
       "   'planet': 'HECT_4078'}),\n",
       " ('115',\n",
       "  {'_depth': 3,\n",
       "   '_expanded': 0,\n",
       "   'bipartite': 0,\n",
       "   'label': 'AHzR',\n",
       "   'planet': 'UICB_6521'}),\n",
       " ('116',\n",
       "  {'_depth': 3,\n",
       "   '_expanded': 0,\n",
       "   'bipartite': 0,\n",
       "   'label': 'tite',\n",
       "   'planet': 'SUFW_5212'}),\n",
       " ('117',\n",
       "  {'_depth': 3,\n",
       "   '_expanded': 0,\n",
       "   'bipartite': 0,\n",
       "   'label': 'yXnH',\n",
       "   'planet': 'IUXR_5280'}),\n",
       " ('118',\n",
       "  {'_depth': 3,\n",
       "   '_expanded': 0,\n",
       "   'bipartite': 0,\n",
       "   'label': 'YtVo',\n",
       "   'planet': 'EWZT_6536'}),\n",
       " ('119',\n",
       "  {'_depth': 3,\n",
       "   '_expanded': 0,\n",
       "   'bipartite': 0,\n",
       "   'label': 'HhvN',\n",
       "   'planet': 'TXZO_9054'}),\n",
       " ('120',\n",
       "  {'_depth': 3,\n",
       "   '_expanded': 0,\n",
       "   'bipartite': 0,\n",
       "   'label': 'XRfX',\n",
       "   'planet': 'TVVG_4076'}),\n",
       " ('121',\n",
       "  {'_depth': 3,\n",
       "   '_expanded': 0,\n",
       "   'bipartite': 0,\n",
       "   'label': 'rLqS',\n",
       "   'planet': 'UKCN_6149'}),\n",
       " ('122',\n",
       "  {'_depth': 3,\n",
       "   '_expanded': 0,\n",
       "   'bipartite': 0,\n",
       "   'label': 'RlLf',\n",
       "   'planet': 'SPEQ_5112'}),\n",
       " ('123',\n",
       "  {'_depth': 3,\n",
       "   '_expanded': 0,\n",
       "   'bipartite': 0,\n",
       "   'label': 'vbIx',\n",
       "   'planet': 'VRWN_0647'}),\n",
       " ('124',\n",
       "  {'_depth': 3,\n",
       "   '_expanded': 0,\n",
       "   'bipartite': 0,\n",
       "   'label': 'PSjr',\n",
       "   'planet': 'SBYV_3372'}),\n",
       " ('125',\n",
       "  {'_depth': 3,\n",
       "   '_expanded': 0,\n",
       "   'bipartite': 0,\n",
       "   'label': 'aJOZ',\n",
       "   'planet': 'VYHI_3518'}),\n",
       " ('126',\n",
       "  {'_depth': 3,\n",
       "   '_expanded': 0,\n",
       "   'bipartite': 0,\n",
       "   'label': 'MhWL',\n",
       "   'planet': 'USNM_2221'}),\n",
       " ('127',\n",
       "  {'_depth': 3,\n",
       "   '_expanded': 0,\n",
       "   'bipartite': 0,\n",
       "   'label': 'XGUd',\n",
       "   'planet': 'JJKQ_7594'}),\n",
       " ('128',\n",
       "  {'_depth': 3,\n",
       "   '_expanded': 0,\n",
       "   'bipartite': 0,\n",
       "   'label': 'gtRH',\n",
       "   'planet': 'ANRY_3728'})]"
      ]
     },
     "execution_count": 21,
     "metadata": {},
     "output_type": "execute_result"
    }
   ],
   "source": [
    "list(c2._net.nodes(data=True))"
   ]
  },
  {
   "cell_type": "code",
   "execution_count": 22,
   "metadata": {},
   "outputs": [
    {
     "data": {
      "text/plain": [
       "29"
      ]
     },
     "execution_count": 22,
     "metadata": {},
     "output_type": "execute_result"
    }
   ],
   "source": [
    "len(c2._net.nodes())"
   ]
  },
  {
   "cell_type": "code",
   "execution_count": 23,
   "metadata": {},
   "outputs": [
    {
     "data": {
      "image/png": "[encoded data removed]",
      "text/plain": [
       "<matplotlib.figure.Figure at 0xa13e26828>"
      ]
     },
     "metadata": {},
     "output_type": "display_data"
    }
   ],
   "source": [
    "nx.draw(c2._net)"
   ]
  },
  {
   "cell_type": "code",
   "execution_count": 24,
   "metadata": {},
   "outputs": [
    {
     "data": {
      "text/plain": [
       "['#Foo',\n",
       " 'oZcV',\n",
       " 'khCu',\n",
       " '#ab',\n",
       " '#af',\n",
       " '#aj',\n",
       " '#ai',\n",
       " '#ag',\n",
       " '#ad',\n",
       " 'eREt',\n",
       " 'bbZi',\n",
       " 'CbzR',\n",
       " 'aGUg',\n",
       " 'uFoD',\n",
       " 'BOGJ',\n",
       " 'AHzR',\n",
       " 'tite',\n",
       " 'yXnH',\n",
       " 'YtVo',\n",
       " 'HhvN',\n",
       " 'XRfX',\n",
       " 'rLqS',\n",
       " 'RlLf',\n",
       " 'vbIx',\n",
       " 'PSjr',\n",
       " 'aJOZ',\n",
       " 'MhWL',\n",
       " 'XGUd',\n",
       " 'gtRH']"
      ]
     },
     "execution_count": 24,
     "metadata": {},
     "output_type": "execute_result"
    }
   ],
   "source": [
    "labels = [data['label'] for node, data in c2._net.nodes(data=True)]\n",
    "labels"
   ]
  },
  {
   "cell_type": "code",
   "execution_count": 25,
   "metadata": {},
   "outputs": [],
   "source": [
    "c3 = Crawler(3, api)\n",
    "c3.initialize()\n",
    "c3.set_autosave(5, \"save/\")"
   ]
  },
  {
   "cell_type": "code",
   "execution_count": 26,
   "metadata": {},
   "outputs": [
    {
     "name": "stdout",
     "output_type": "stream",
     "text": [
      "Expanding node: 100\n",
      "Expanding node: 101\n",
      "Expanding node: 102\n",
      "Expanding node: 103\n",
      "Expanding node: 104\n",
      "Autosaving...\n",
      "Expanding node: 105\n",
      "Expanding node: 106\n",
      "Expanding node: 107\n",
      "Expanding node: 108\n",
      "Expanding node: 109\n",
      "Autosaving...\n"
     ]
    },
    {
     "data": {
      "text/plain": [
       "True"
      ]
     },
     "execution_count": 26,
     "metadata": {},
     "output_type": "execute_result"
    }
   ],
   "source": [
    "c3.crawl_k(10)"
   ]
  }
 ],
 "metadata": {
  "anaconda-cloud": {},
  "kernelspec": {
   "display_name": "Python 3",
   "language": "python",
   "name": "python3"
  },
  "language_info": {
   "codemirror_mode": {
    "name": "ipython",
    "version": 3
   },
   "file_extension": ".py",
   "mimetype": "text/x-python",
   "name": "python",
   "nbconvert_exporter": "python",
   "pygments_lexer": "ipython3",
   "version": "3.6.6"
  }
 },
 "nbformat": 4,
 "nbformat_minor": 1
}
