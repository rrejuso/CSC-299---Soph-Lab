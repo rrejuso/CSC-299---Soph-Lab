{
 "cells": [
  {
   "cell_type": "markdown",
   "metadata": {},
   "source": [
    "Data Gathering Lab 2\n",
    "--------------------\n",
    "\n",
    "Imports"
   ]
  },
  {
   "cell_type": "code",
   "execution_count": 1,
   "metadata": {},
   "outputs": [],
   "source": [
    "import networkx as nx\n",
    "import matplotlib.pyplot as plt\n",
    "%matplotlib inline "
   ]
  },
  {
   "cell_type": "code",
   "execution_count": 3,
   "metadata": {
    "scrolled": true
   },
   "outputs": [
    {
     "name": "stdout",
     "output_type": "stream",
     "text": [
      "The autoreload extension is already loaded. To reload it, use:\n",
      "  %reload_ext autoreload\n"
     ]
    }
   ],
   "source": [
    "%load_ext autoreload\n",
    "%autoreload 2\n",
    "from crawler import Crawler\n",
    "from crawler_state import CrawlerState\n",
    "from crawler_abst_api import CrawlerAbstractAPI\n",
    "from crawler_my_api import MyAPI"
   ]
  },
  {
   "cell_type": "markdown",
   "metadata": {},
   "source": [
    "## Note on Nodes\n",
    "Nodes in the network have special bookkeeping attributes. These should not be changed. The content attributes will vary based on your specific application.\n",
    "### Bookkeeping Attributes\n",
    "- `id` -- attribute based on the order instantiated via the crawl. Note that it must be converted from a number to a string so that it can be read back in again from GraphML.\n",
    "- `_expanded` -- 1 if the nodes children have been generated\n",
    "- `_depth` -- the distance of this node from the origin node or nodes\n",
    "\n",
    "### Content Attributes\n",
    "It's a silly example where users have random names and associated random planets. Users are connected via a small number of randomly-generated tags.\n",
    "- `label` -- the name of the user (user nodes only) or the tag string (tag nodes only)\n",
    "- `planet` -- the planet the user is from (user nodes only)\n",
    "- `bipartite` -- will be 0 from users and 1 for tags\n"
   ]
  },
  {
   "cell_type": "markdown",
   "metadata": {},
   "source": [
    "# Tests for MyAPI\n",
    "Not very rigorous testing"
   ]
  },
  {
   "cell_type": "code",
   "execution_count": null,
   "metadata": {},
   "outputs": [],
   "source": [
    "api = MyAPI()\n",
    "c = Crawler(2, api)"
   ]
  },
  {
   "cell_type": "code",
   "execution_count": null,
   "metadata": {},
   "outputs": [],
   "source": [
    "setup = api.initial_nodes()\n",
    "print(setup)\n",
    "if setup[0][0] == '#Foo' and setup[0][1] == '100':\n",
    "    print('initial_node seems to be working')"
   ]
  },
  {
   "cell_type": "code",
   "execution_count": null,
   "metadata": {},
   "outputs": [],
   "source": [
    "names_query = api.make_actors_url('<Thor_(film)>')"
   ]
  },
  {
   "cell_type": "code",
   "execution_count": null,
   "metadata": {},
   "outputs": [],
   "source": [
    "data = [(\"Dwayne_Johnson\" , \"Male\")]\n",
    "\n",
    "k = [(user['actor'], user['sex']) for user in data['users']]"
   ]
  },
  {
   "cell_type": "code",
   "execution_count": null,
   "metadata": {
    "scrolled": false
   },
   "outputs": [],
   "source": [
    "movies_query = api.make_movies_url('Ray_Stevenson_(actor)')\n",
    "print(movies_query)\n"
   ]
  },
  {
   "cell_type": "code",
   "execution_count": null,
   "metadata": {},
   "outputs": [],
   "source": [
    "user_node = api.make_node_actor(\"Dwayne_Johnson\", \"Male\", 1)\n",
    "print(c._net.nodes[user_node])\n",
    "#    print('make_node_user seems to be working')\n"
   ]
  },
  {
   "cell_type": "code",
   "execution_count": null,
   "metadata": {},
   "outputs": [],
   "source": [
    "movie_node = api.make_node_movie('Be_Cool', '500000', '1', 1)\n",
    "print(c._net.nodes[movie_node])"
   ]
  },
  {
   "cell_type": "code",
   "execution_count": null,
   "metadata": {},
   "outputs": [],
   "source": [
    "c._net.clear()"
   ]
  },
  {
   "cell_type": "code",
   "execution_count": 48,
   "metadata": {
    "scrolled": true
   },
   "outputs": [
    {
     "name": "stdout",
     "output_type": "stream",
     "text": [
      "['<Tooth_Fairy_(2010_film)>']\n",
      "<class 'float'>\n",
      "<class 'float'>\n",
      "<class 'float'>\n",
      "<class 'float'>\n",
      "<class 'float'>\n",
      "<class 'float'>\n",
      "<class 'float'>\n",
      "<class 'float'>\n",
      "<class 'float'>\n",
      "<class 'float'>\n",
      "<class 'float'>\n",
      "<class 'float'>\n",
      "<class 'float'>\n",
      "<class 'float'>\n",
      "<class 'float'>\n",
      "<class 'float'>\n",
      "<class 'float'>\n",
      "<class 'float'>\n",
      "<class 'float'>\n",
      "<class 'float'>\n",
      "<class 'float'>\n",
      "<class 'float'>\n",
      "<class 'float'>\n",
      "<class 'float'>\n",
      "<class 'float'>\n",
      "<class 'float'>\n",
      "<class 'float'>\n",
      "<class 'float'>\n",
      "<class 'float'>\n"
     ]
    }
   ],
   "source": [
    "result = api.execute_movies_query('<Dwayne_Johnson>')\n",
    "#if result[0] and type(result[1] is list):\n",
    "#    print('execute_names_query seems to be working')\n",
    "#print(result)\n",
    "success, data = result;\n",
    "old_movies = [node['movie'] for node in data if (node['movie'] == '<Tooth_Fairy_(2010_film)>')]\n",
    "print(old_movies)\n",
    "\n",
    "for node in data:\n",
    "    print(type(node['gross']))\n",
    "\n",
    "    "
   ]
  },
  {
   "cell_type": "code",
   "execution_count": null,
   "metadata": {},
   "outputs": [],
   "source": [
    "data = [(\"apple\",\"not\"),(\"banana\", \"is\")]\n",
    "k = [(name,planet) for name, planet in data]\n",
    "print(k)\n",
    "movieslist = [movie for movie in data]"
   ]
  },
  {
   "cell_type": "code",
   "execution_count": null,
   "metadata": {},
   "outputs": [],
   "source": [
    "api.get_child(111, graph, state)"
   ]
  },
  {
   "cell_type": "code",
   "execution_count": null,
   "metadata": {},
   "outputs": [],
   "source": [
    "for node in result:\n",
    "    api.make_node_movie(node['movie'], node['gross'], node['budget'],1)\n",
    "c._net.nodes(data=True)"
   ]
  },
  {
   "cell_type": "markdown",
   "metadata": {},
   "source": [
    "# For the Lab"
   ]
  },
  {
   "cell_type": "code",
   "execution_count": 42,
   "metadata": {},
   "outputs": [],
   "source": [
    "api = MyAPI()\n",
    "c = Crawler(3, api)\n",
    "c.initialize()"
   ]
  },
  {
   "cell_type": "code",
   "execution_count": 28,
   "metadata": {
    "scrolled": false
   },
   "outputs": [
    {
     "name": "stdout",
     "output_type": "stream",
     "text": [
      "Expanding node: 100\n",
      "Expanding node: 101\n"
     ]
    },
    {
     "data": {
      "text/plain": [
       "True"
      ]
     },
     "execution_count": 28,
     "metadata": {},
     "output_type": "execute_result"
    }
   ],
   "source": [
    "c.crawl_k(2)"
   ]
  },
  {
   "cell_type": "code",
   "execution_count": 29,
   "metadata": {},
   "outputs": [
    {
     "data": {
      "image/png": "[encoded data removed]",
      "text/plain": [
       "<Figure size 432x288 with 1 Axes>"
      ]
     },
     "metadata": {},
     "output_type": "display_data"
    }
   ],
   "source": [
    "nx.draw(c._net)"
   ]
  },
  {
   "cell_type": "code",
   "execution_count": 30,
   "metadata": {},
   "outputs": [
    {
     "data": {
      "text/plain": [
       "deque(['102',\n",
       "       '103',\n",
       "       '104',\n",
       "       '105',\n",
       "       '106',\n",
       "       '107',\n",
       "       '108',\n",
       "       '109',\n",
       "       '110',\n",
       "       '111',\n",
       "       '112',\n",
       "       '113',\n",
       "       '114',\n",
       "       '115',\n",
       "       '116',\n",
       "       '117',\n",
       "       '118',\n",
       "       '119',\n",
       "       '120',\n",
       "       '121',\n",
       "       '122',\n",
       "       '123',\n",
       "       '124',\n",
       "       '125',\n",
       "       '126',\n",
       "       '127',\n",
       "       '128',\n",
       "       '129',\n",
       "       '130',\n",
       "       '131',\n",
       "       '132',\n",
       "       '133'])"
      ]
     },
     "execution_count": 30,
     "metadata": {},
     "output_type": "execute_result"
    }
   ],
   "source": [
    "c._state._open"
   ]
  },
  {
   "cell_type": "code",
   "execution_count": 31,
   "metadata": {},
   "outputs": [
    {
     "data": {
      "text/plain": [
       "[('101',\n",
       "  {'label': '<Tooth_Fairy_(2010_film)>',\n",
       "   'bipartite': 1,\n",
       "   '_depth': 1,\n",
       "   '_expanded': 1,\n",
       "   'gross': 48000000.0,\n",
       "   'budget': 112500000.0}),\n",
       " ('102',\n",
       "  {'label': '<Southland_Tales>',\n",
       "   'bipartite': 1,\n",
       "   '_depth': 1,\n",
       "   '_expanded': 0,\n",
       "   'gross': 17000000.0,\n",
       "   'budget': 374743.0}),\n",
       " ('103',\n",
       "  {'label': '<Gridiron_Gang>',\n",
       "   'bipartite': 1,\n",
       "   '_depth': 1,\n",
       "   '_expanded': 0,\n",
       "   'gross': 30000000.0,\n",
       "   'budget': 179480851.0}),\n",
       " ('104',\n",
       "  {'label': '<San_Andreas_(film)>',\n",
       "   'bipartite': 1,\n",
       "   '_depth': 1,\n",
       "   '_expanded': 0,\n",
       "   'gross': 110000000.0,\n",
       "   'budget': 474000000.0})]"
      ]
     },
     "execution_count": 31,
     "metadata": {},
     "output_type": "execute_result"
    }
   ],
   "source": [
    "list(c._net.nodes(data=True))[1:5]"
   ]
  },
  {
   "cell_type": "code",
   "execution_count": 32,
   "metadata": {},
   "outputs": [
    {
     "data": {
      "text/plain": [
       "{'<Ashley_Judd>': '130',\n",
       " '<Stephen_Merchant>': '131',\n",
       " '<Julie_Andrews>': '132',\n",
       " '<Dwayne_Johnson>': '133'}"
      ]
     },
     "execution_count": 32,
     "metadata": {},
     "output_type": "execute_result"
    }
   ],
   "source": [
    "c._state._visited0"
   ]
  },
  {
   "cell_type": "code",
   "execution_count": 33,
   "metadata": {},
   "outputs": [
    {
     "data": {
      "text/plain": [
       "{'<Dwayne_Johnson>': '100',\n",
       " '<Tooth_Fairy_(2010_film)>': '101',\n",
       " '<Southland_Tales>': '102',\n",
       " '<Gridiron_Gang>': '103',\n",
       " '<San_Andreas_(film)>': '104',\n",
       " '<Snitch_(film)>': '105',\n",
       " '<Empire_State_(2013_film)>': '106',\n",
       " '<Be_Cool>': '107',\n",
       " '<Planet_51>': '108',\n",
       " '<Faster_(2010_film)>': '109',\n",
       " '<Race_to_Witch_Mountain>': '110',\n",
       " '<The_Fast_and_the_Furious>': '111',\n",
       " '<Journey_2:_The_Mysterious_Island>': '112',\n",
       " '<Beyond_the_Mat>': '113',\n",
       " '<The_Mummy_Returns>': '114',\n",
       " '<The_Scorpion_King>': '115',\n",
       " '<The_Rundown>': '116',\n",
       " '<Central_Intelligence>': '117',\n",
       " '<Hercules_(2014_film)>': '118',\n",
       " '<G.I._Joe:_Retaliation>': '119',\n",
       " '<The_Game_Plan_(film)>': '120',\n",
       " '<Get_Smart_(film)>': '121',\n",
       " '<Walking_Tall_(2004_film)>': '123',\n",
       " '<G.I._Joe_(film_series)>': '124',\n",
       " '<Baywatch_(film)>': '125',\n",
       " '<Jumanji_(2017_sequel)>': '126',\n",
       " '<Bret_Hart:_Survival_of_the_Hitman>': '127',\n",
       " '<Longshot_(film)>': '128',\n",
       " '<Moana_(2016_film)>': '129'}"
      ]
     },
     "execution_count": 33,
     "metadata": {},
     "output_type": "execute_result"
    }
   ],
   "source": [
    "c._state._visited1"
   ]
  },
  {
   "cell_type": "code",
   "execution_count": 34,
   "metadata": {},
   "outputs": [
    {
     "data": {
      "text/plain": [
       "34"
      ]
     },
     "execution_count": 34,
     "metadata": {},
     "output_type": "execute_result"
    }
   ],
   "source": [
    "c.to_files(\"out.graphml\", \"out.json\")\n",
    "len(c._net.nodes())"
   ]
  },
  {
   "cell_type": "code",
   "execution_count": 52,
   "metadata": {},
   "outputs": [],
   "source": [
    "c2 = Crawler(5, api)\n",
    "#c2.from_files(\"out.graphml\", \"out.json\")"
   ]
  },
  {
   "cell_type": "code",
   "execution_count": 54,
   "metadata": {},
   "outputs": [
    {
     "ename": "SyntaxError",
     "evalue": "Missing parentheses in call to 'print'. Did you mean print(node)? (<ipython-input-54-6be763219623>, line 5)",
     "output_type": "error",
     "traceback": [
      "\u001b[1;36m  File \u001b[1;32m\"<ipython-input-54-6be763219623>\"\u001b[1;36m, line \u001b[1;32m5\u001b[0m\n\u001b[1;33m    print node\u001b[0m\n\u001b[1;37m             ^\u001b[0m\n\u001b[1;31mSyntaxError\u001b[0m\u001b[1;31m:\u001b[0m Missing parentheses in call to 'print'. Did you mean print(node)?\n"
     ]
    }
   ],
   "source": [
    "c2.crawl_k(15)\n",
    "for node in c2.node:\n",
    "    for attrib in c2.node[node]:\n",
    "        if type(c2.node[node][attrib]) == dict:\n",
    "            print(node)"
   ]
  },
  {
   "cell_type": "code",
   "execution_count": null,
   "metadata": {},
   "outputs": [],
   "source": [
    "list(c2._net.nodes(data=True))"
   ]
  },
  {
   "cell_type": "code",
   "execution_count": null,
   "metadata": {},
   "outputs": [],
   "source": [
    "len(c2._net.nodes())"
   ]
  },
  {
   "cell_type": "code",
   "execution_count": null,
   "metadata": {},
   "outputs": [],
   "source": [
    "nx.draw(c2._net)"
   ]
  },
  {
   "cell_type": "code",
   "execution_count": null,
   "metadata": {},
   "outputs": [],
   "source": [
    "labels = [data['label'] for node, data in c2._net.nodes(data=True)]\n",
    "labels"
   ]
  },
  {
   "cell_type": "code",
   "execution_count": 49,
   "metadata": {},
   "outputs": [],
   "source": [
    "c3 = Crawler(3, api)\n",
    "c3.initialize()\n",
    "c3.set_autosave(5, \"save/\")"
   ]
  },
  {
   "cell_type": "code",
   "execution_count": 50,
   "metadata": {},
   "outputs": [
    {
     "name": "stdout",
     "output_type": "stream",
     "text": [
      "Expanding node: 100\n",
      "Expanding node: 101\n",
      "Expanding node: 102\n",
      "Expanding node: 103\n",
      "Expanding node: 104\n",
      "Autosaving...\n",
      "Expanding node: 105\n",
      "Expanding node: 106\n",
      "Expanding node: 107\n",
      "Expanding node: 108\n",
      "Expanding node: 109\n",
      "Autosaving...\n"
     ]
    },
    {
     "data": {
      "text/plain": [
       "True"
      ]
     },
     "execution_count": 50,
     "metadata": {},
     "output_type": "execute_result"
    }
   ],
   "source": [
    "c3.crawl_k(10)"
   ]
  },
  {
   "cell_type": "code",
   "execution_count": null,
   "metadata": {},
   "outputs": [],
   "source": []
  }
 ],
 "metadata": {
  "anaconda-cloud": {},
  "kernelspec": {
   "display_name": "Python 3",
   "language": "python",
   "name": "python3"
  },
  "language_info": {
   "codemirror_mode": {
    "name": "ipython",
    "version": 3
   },
   "file_extension": ".py",
   "mimetype": "text/x-python",
   "name": "python",
   "nbconvert_exporter": "python",
   "pygments_lexer": "ipython3",
   "version": "3.6.5"
  }
 },
 "nbformat": 4,
 "nbformat_minor": 1
}
