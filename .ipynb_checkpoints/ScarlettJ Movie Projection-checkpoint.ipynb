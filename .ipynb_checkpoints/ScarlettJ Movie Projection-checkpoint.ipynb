{
 "cells": [
  {
   "cell_type": "code",
   "execution_count": 1,
   "metadata": {},
   "outputs": [],
   "source": [
    "import networkx as nx\n",
    "import pandas as pd\n",
    "import numpy as np\n",
    "import matplotlib.pyplot as plt\n",
    "import seaborn as sbn\n",
    "%matplotlib inline\n"
   ]
  },
  {
   "cell_type": "code",
   "execution_count": 2,
   "metadata": {},
   "outputs": [],
   "source": [
    "sjo_file = \"autosaveSJO.graphml\""
   ]
  },
  {
   "cell_type": "code",
   "execution_count": 3,
   "metadata": {},
   "outputs": [
    {
     "name": "stdout",
     "output_type": "stream",
     "text": [
      "[('100', {'label': '<Scarlett_Johansson>', 'bipartite': 0, '_depth': 0, '_expanded': 1, 'gender': 'male'}), ('101', {'label': '<The_Horse_Whisperer_(film)>', 'bipartite': 1, '_depth': 1, '_expanded': 1, 'gross': 60000000.0, 'budget': 186883563.0}), ('102', {'label': '<The_Nanny_Diaries_(film)>', 'bipartite': 1, '_depth': 1, '_expanded': 1, 'gross': 20000000.0, 'budget': 47738099.0}), ('103', {'label': '<Eight_Legged_Freaks>', 'bipartite': 1, '_depth': 1, '_expanded': 1, 'gross': 30000000.0, 'budget': 45867333.0}), ('104', {'label': '<Avengers:_Age_of_Ultron>', 'bipartite': 1, '_depth': 1, '_expanded': 1, 'gross': 316000000.0, 'budget': 1405000000.0})]\n"
     ]
    }
   ],
   "source": [
    "SJO = nx.read_graphml(sjo_file)\n",
    "print(list(SJO.nodes(data=True))[0:5])"
   ]
  },
  {
   "cell_type": "code",
   "execution_count": 4,
   "metadata": {},
   "outputs": [],
   "source": [
    "movies = [node for node, nodedata in SJO.nodes(data=True) if nodedata['bipartite'] == 1]"
   ]
  },
  {
   "cell_type": "code",
   "execution_count": 5,
   "metadata": {},
   "outputs": [],
   "source": [
    "movieProjection = nx.bipartite.weighted_projected_graph(SJO, movies)\n",
    "filtered = nx.Graph(movieProjection)\n",
    "\n",
    "to_remove = [(n1, n2) for n1,n2,data in movieProjection.edges(data=True) if data['weight'] < 2]\n",
    "filtered.remove_edges_from(to_remove)\n",
    "giant_cc_nodes = max(nx.connected_components(filtered), key = len)\n",
    "filtered2 = filtered.subgraph(giant_cc_nodes)\n",
    "labels = {nodeId:data['label'] for nodeId, data in filtered2.nodes(data=True)}\n",
    "\n",
    "#remove 0 budget\n",
    "\n"
   ]
  },
  {
   "cell_type": "code",
   "execution_count": 7,
   "metadata": {},
   "outputs": [
    {
     "name": "stdout",
     "output_type": "stream",
     "text": [
      "341\n"
     ]
    }
   ],
   "source": [
    "filtered3 = filtered2.copy()\n",
    "\n",
    "print(len(filtered2.nodes(data=True)))\n",
    "NanMovies = [n1 for n1, data in filtered2.nodes(data=True) if np.isnan(data['gross']) or np.isnan(data['budget'])]\n",
    "#len(NanMovies)\n",
    "\n",
    "filtered3.remove_nodes_from(NanMovies)\n"
   ]
  },
  {
   "cell_type": "code",
   "execution_count": 8,
   "metadata": {},
   "outputs": [
    {
     "name": "stdout",
     "output_type": "stream",
     "text": [
      "False\n"
     ]
    }
   ],
   "source": [
    "print(len(filtered2 ) == len(filtered3))"
   ]
  },
  {
   "cell_type": "code",
   "execution_count": 9,
   "metadata": {},
   "outputs": [],
   "source": [
    "movies = [(node,nodedata) for node, nodedata in filtered3.nodes(data=True) if nodedata['bipartite'] == 1]\n"
   ]
  },
  {
   "cell_type": "code",
   "execution_count": 10,
   "metadata": {},
   "outputs": [
    {
     "data": {
      "text/plain": [
       "{'363': '<Sisters_(2015_film)>',\n",
       " '931': '<The_Railway_Man_(film)>',\n",
       " '434': '<The_Invisible_Woman_(2013_film)>',\n",
       " '1465': '<Eragon_(film)>',\n",
       " '940': '<Breaking_the_Waves>',\n",
       " '934': '<Cinderella_(2015_Disney_film)>',\n",
       " '1345': '<The_Cobbler_(2014_film)>',\n",
       " '115': '<The_Avengers_(2012_film)>',\n",
       " '637': '<Loaded_Weapon_1>',\n",
       " '290': \"<Legend_of_the_Guardians:_The_Owls_of_Ga'Hoole>\",\n",
       " '1411': '<Red_Curtain_Trilogy>',\n",
       " '647': '<RoboCop_(2014_film)>',\n",
       " '538': '<The_Last_Station>',\n",
       " '1092': '<The_Wind_That_Shakes_the_Barley_(film)>',\n",
       " '439': '<The_English_Patient_(film)>',\n",
       " '1267': '<All_the_Real_Girls>',\n",
       " '630': '<Mother_and_Child_(2009_film)>',\n",
       " '1342': '<Hotel_Transylvania_2>',\n",
       " '1003': '<A_Christmas_Carol_(2009_film)>',\n",
       " '914': '<Dogville>',\n",
       " '663': '<Coach_Carter>',\n",
       " '712': '<In_the_Heart_of_the_Sea_(film)>',\n",
       " '1339': '<Final_Fantasy:_The_Spirits_Within>',\n",
       " '777': '<Collateral_(film)>',\n",
       " '1057': '<The_Ghost_Writer_(film)>',\n",
       " '117': '<Captain_America:_Civil_War>',\n",
       " '391': '<Truth_(2015_film)>',\n",
       " '442': '<Life_as_a_House>',\n",
       " '1401': '<Moulin_Rouge!>',\n",
       " '888': '<We_Are_Marshall>',\n",
       " '431': '<Four_Weddings_and_a_Funeral>',\n",
       " '440': '<Gosford_Park>',\n",
       " '1242': \"<Captain_Corelli's_Mandolin_(film)>\",\n",
       " '668': '<Lakeview_Terrace>',\n",
       " '413': \"<Charlotte's_Web_(2006_film)>\",\n",
       " '292': '<For_Love_Alone>',\n",
       " '1129': '<Edison_(film)>',\n",
       " '1159': '<London_Has_Fallen>',\n",
       " '828': '<Rosewood_(film)>',\n",
       " '1014': \"<The_King's_Speech>\",\n",
       " '1002': \"<Devil's_Knot_(film)>\",\n",
       " '990': '<The_Assassination_of_Jesse_James_by_the_Coward_Robert_Ford>',\n",
       " '785': \"<All_the_King's_Men_(2006_film)>\",\n",
       " '1330': '<The_Big_Lebowski>',\n",
       " '856': '<28_Weeks_Later>',\n",
       " '677': \"<Miss_Peregrine's_Home_for_Peculiar_Children_(film)>\",\n",
       " '932': '<Mamma_Mia!_(film)>',\n",
       " '857': '<Star_Trek_Beyond>',\n",
       " '552': \"<Barney's_Version_(film)>\",\n",
       " '1056': '<The_Dark_Knight_Trilogy>',\n",
       " '1404': '<Emma_(1996_theatrical_film)>',\n",
       " '646': '<Hard_Eight_(film)>',\n",
       " '912': '<Transcendence_(2014_film)>',\n",
       " '658': '<Jackie_Brown>',\n",
       " '359': '<Hannah_and_Her_Sisters>',\n",
       " '534': '<12_Years_a_Slave_(film)>',\n",
       " '745': '<Supernova_(2000_film)>',\n",
       " '1279': '<Lars_and_the_Real_Girl>',\n",
       " '910': '<Creation_(2009_film)>',\n",
       " '110': '<The_Jungle_Book_(2016_film)>',\n",
       " '1341': '<Saint_John_of_Las_Vegas>',\n",
       " '942': '<Nymphomaniac_(film)>',\n",
       " '102': '<The_Nanny_Diaries_(film)>',\n",
       " '1000': '<Tinker_Tailor_Soldier_Spy_(film)>',\n",
       " '791': '<Where_the_Wild_Things_Are_(film)>',\n",
       " '780': '<Shutter_Island_(film)>',\n",
       " '661': '<Deep_Blue_Sea_(1999_film)>',\n",
       " '369': '<Bullets_over_Broadway>',\n",
       " '295': '<The_Jungle_Book_(1994_film)>',\n",
       " '485': \"<Smokin'_Aces>\",\n",
       " '1819': '<Syriana>',\n",
       " '1011': \"<Bridget_Jones's_Baby>\",\n",
       " '824': \"<Ocean's_Twelve>\",\n",
       " '475': '<Fantastic_Four:_Rise_of_the_Silver_Surfer>',\n",
       " '707': '<Thor_(film)>',\n",
       " '1012': '<Bridget_Jones_(film_series)>',\n",
       " '1628': '<Moonrise_Kingdom>',\n",
       " '1194': '<Pirates_of_the_Caribbean_(film_series)>',\n",
       " '907': '<Mortdecai_(film)>',\n",
       " '1058': '<Jackboots_on_Whitehall>',\n",
       " '496': '<Love_Actually>',\n",
       " '629': '<Big_Game_(2014_film)>',\n",
       " '1356': '<Big_Daddy_(1999_film)>',\n",
       " '1351': '<Domestic_Disturbance>',\n",
       " '998': '<The_Last_Legion>',\n",
       " '654': '<Jumper_(2008_film)>',\n",
       " '933': '<Amistad_(film)>',\n",
       " '491': '<The_Other_Man_(2008_film)>',\n",
       " '822': '<Devil_in_a_Blue_Dress_(film)>',\n",
       " '358': \"<I'm_Dancing_as_Fast_as_I_Can>\",\n",
       " '1127': '<High_Crimes>',\n",
       " '1486': '<The_Lord_of_the_Rings_(film_series)>',\n",
       " '644': '<Star_Wars:_The_Clone_Wars_(film)>',\n",
       " '1135': '<Johnny_Handsome>',\n",
       " '311': '<The_Umbrella_Woman>',\n",
       " '1631': '<Broken_Flowers>',\n",
       " '988': '<Mission:_Impossible_–_Ghost_Protocol>',\n",
       " '435': '<Mission:_Impossible_(film)>',\n",
       " '497': '<Love_Actually>',\n",
       " '108': '<Vicky_Cristina_Barcelona>',\n",
       " '1236': '<G-Force_(film)>',\n",
       " '941': '<Nymphomaniac_(film)>',\n",
       " '1121': '<Nurse_Betty>',\n",
       " '670': '<A_Time_to_Kill_(1996_film)>',\n",
       " '536': '<Fred_Claus>',\n",
       " '886': '<The_Hurt_Locker>',\n",
       " '1460': '<Constantine_(film)>',\n",
       " '1008': '<Bridget_Jones:_The_Edge_of_Reason_(film)>',\n",
       " '1817': \"<Ocean's_Eleven>\",\n",
       " '1053': '<Belle_(2013_film)>',\n",
       " '1354': '<Living_in_Oblivion>',\n",
       " '776': '<Zodiac_(film)>',\n",
       " '2647': '<Burn_After_Reading>',\n",
       " '664': '<Twisted_(2004_film)>',\n",
       " '650': '<Kiss_of_Death_(1995_film)>',\n",
       " '739': '<Crash_(1996_film)>',\n",
       " '980': '<Mission:_Impossible_–_Rogue_Nation>',\n",
       " '813': '<Flight_(2012_film)>',\n",
       " '1010': \"<Bridget_Jones's_Diary_(film)>\",\n",
       " '657': '<XXX_(2002_film)>',\n",
       " '731': '<Testament_of_Youth_(film)>',\n",
       " '1481': '<Troy_(film)>',\n",
       " '105': '<Avengers:_Age_of_Ultron>',\n",
       " '1070': '<The_Grand_Budapest_Hotel>',\n",
       " '1007': '<Shakespeare_in_Love>',\n",
       " '104': '<Avengers:_Age_of_Ultron>',\n",
       " '1240': '<Elegy_(film)>',\n",
       " '826': '<Out_of_Sight>',\n",
       " '1001': '<Before_I_Go_to_Sleep_(film)>',\n",
       " '915': '<Master_and_Commander:_The_Far_Side_of_the_World>',\n",
       " '662': '<Changing_Lanes>',\n",
       " '634': '<S.W.A.T._(film)>',\n",
       " '1390': '<Valiant_(film)>',\n",
       " '1149': '<Kiss_the_Girls_(1997_film)>',\n",
       " '645': '<The_Legend_of_Tarzan_(film)>',\n",
       " '592': '<See_Spot_Run>',\n",
       " '1054': '<Little_Boy_(film)>',\n",
       " '1475': '<Soldiers_of_Fortune_(film)>',\n",
       " '308': '<My_Brilliant_Career_(film)>',\n",
       " '1131': '<Outbreak_(film)>',\n",
       " '909': '<A_Beautiful_Mind_(film)>',\n",
       " '784': '<Eternal_Sunshine_of_the_Spotless_Mind>',\n",
       " '408': '<The_Great_Gatsby_(1974_film)>',\n",
       " '638': '<The_Long_Kiss_Goodnight>',\n",
       " '1334': '<Desperado_(film)>',\n",
       " '767': '<Anna_Karenina_(2012_film)>',\n",
       " '493': '<Genius_(2016_film)>',\n",
       " '943': '<Nymphomaniac_(film)>',\n",
       " '783': '<Now_You_See_Me_(film)>',\n",
       " '1138': '<Glory_(1989_film)>',\n",
       " '1071': '<The_Best_Exotic_Marigold_Hotel>',\n",
       " '531': '<Confidence_(2003_film)>',\n",
       " '652': '<Soul_Men>',\n",
       " '1132': '<Dolphin_Tale>',\n",
       " '1062': '<Snowden_(film)>',\n",
       " '1331': '<Mystery_Train_(film)>',\n",
       " '524': '<Turbo_(film)>',\n",
       " '362': '<Radio_Days>',\n",
       " '1485': '<National_Treasure_(film)>',\n",
       " '1108': '<Maurice_(film)>',\n",
       " '1332': '<I_Now_Pronounce_You_Chuck_&_Larry>',\n",
       " '1349': '<Hotel_Transylvania>',\n",
       " '1329': '<Armageddon_(1998_film)>',\n",
       " '126': '<Hail,_Caesar!>',\n",
       " '1335': '<Fargo_(film)>',\n",
       " '821': \"<Ocean's_Thirteen>\",\n",
       " '1061': '<Valkyrie_(film)>',\n",
       " '1344': '<Monsters,_Inc.>',\n",
       " '643': '<The_Negotiator>',\n",
       " '1235': '<Blow_(film)>',\n",
       " '1004': \"<St_Trinian's_(film)>\",\n",
       " '908': \"<A_Knight's_Tale>\",\n",
       " '1482': '<Troy_(film)>',\n",
       " '401': '<The_Last_Castle>',\n",
       " '1124': '<Olympus_Has_Fallen>',\n",
       " '307': '<The_Journalist_(1979_film)>',\n",
       " '1091': '<28_Days_Later>',\n",
       " '655': '<Star_Wars:_Episode_III_–_Revenge_of_the_Sith>',\n",
       " '812': '<Crash_(2004_film)>',\n",
       " '789': '<Begin_Again_(film)>',\n",
       " '1357': '<Monster_House_(film)>',\n",
       " '1337': '<Reservoir_Dogs>',\n",
       " '676': '<The_Hateful_Eight>',\n",
       " '999': '<The_Importance_of_Being_Earnest_(2002_film)>',\n",
       " '374': '<Darling_Companion>',\n",
       " '1340': '<Youth_in_Revolt_(film)>',\n",
       " '1336': '<Home_on_the_Range_(2004_film)>',\n",
       " '810': '<Traffic_(2000_film)>',\n",
       " '1350': '<Khumba>',\n",
       " '640': '<Django_Unchained>',\n",
       " '1276': '<The_Station_Agent>',\n",
       " '106': '<Girl_with_a_Pearl_Earring_(film)>',\n",
       " '1133': '<Dolphin_Tale_2>',\n",
       " '502': '<The_Mothman_Prophecies_(film)>',\n",
       " '987': '<Kill_the_Messenger_(2014_film)>',\n",
       " '1402': '<Velvet_Goldmine>',\n",
       " '1338': '<Spy_Kids_2:_The_Island_of_Lost_Dreams>',\n",
       " '792': '<Now_You_See_Me_2>',\n",
       " '432': '<In_the_House_(film)>',\n",
       " '116': '<Match_Point>',\n",
       " '1353': '<Igor_(film)>',\n",
       " '1155': '<Chain_Reaction_(film)>',\n",
       " '1466': '<Seventh_Son_(film)>',\n",
       " '628': '<Big_Game_(2014_film)>',\n",
       " '1358': \"<Things_to_Do_in_Denver_When_You're_Dead>\",\n",
       " '529': '<Duets_(film)>',\n",
       " '648': '<Amos_&_Andrew>',\n",
       " '863': '<RocknRolla>',\n",
       " '1051': '<Michael_Clayton_(film)>'}"
      ]
     },
     "execution_count": 10,
     "metadata": {},
     "output_type": "execute_result"
    }
   ],
   "source": [
    "names = {movie:data['label'] for movie, data in movies}\n",
    "names"
   ]
  },
  {
   "cell_type": "code",
   "execution_count": 11,
   "metadata": {},
   "outputs": [
    {
     "data": {
      "image/png": "[encoded data removed]",
      "text/plain": [
       "<Figure size 432x288 with 1 Axes>"
      ]
     },
     "metadata": {},
     "output_type": "display_data"
    }
   ],
   "source": [
    "nx.set_node_attributes(filtered3, names, name = \"Names\")\n",
    "\n",
    "\n",
    "nx.draw(filtered3)\n",
    "\n",
    "nx.write_graphml(filtered3, \"ScarlettJMOVIESFiltered.graphml\")\n"
   ]
  },
  {
   "cell_type": "code",
   "execution_count": null,
   "metadata": {},
   "outputs": [],
   "source": []
  },
  {
   "cell_type": "code",
   "execution_count": null,
   "metadata": {},
   "outputs": [],
   "source": []
  },
  {
   "cell_type": "code",
   "execution_count": null,
   "metadata": {},
   "outputs": [],
   "source": []
  }
 ],
 "metadata": {
  "kernelspec": {
   "display_name": "Python 3",
   "language": "python",
   "name": "python3"
  },
  "language_info": {
   "codemirror_mode": {
    "name": "ipython",
    "version": 3
   },
   "file_extension": ".py",
   "mimetype": "text/x-python",
   "name": "python",
   "nbconvert_exporter": "python",
   "pygments_lexer": "ipython3",
   "version": "3.6.5"
  }
 },
 "nbformat": 4,
 "nbformat_minor": 2
}
