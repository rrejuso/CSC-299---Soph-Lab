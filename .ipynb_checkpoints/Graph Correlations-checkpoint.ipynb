{
 "cells": [
  {
   "cell_type": "code",
   "execution_count": 1,
   "metadata": {},
   "outputs": [],
   "source": [
    "import networkx as nx\n",
    "import pandas as pd\n",
    "import numpy as np\n",
    "import matplotlib.pyplot as plt\n",
    "import seaborn as sbn\n",
    "%matplotlib inline "
   ]
  },
  {
   "cell_type": "code",
   "execution_count": null,
   "metadata": {},
   "outputs": [],
   "source": []
  },
  {
   "cell_type": "code",
   "execution_count": 12,
   "metadata": {},
   "outputs": [],
   "source": [
    "dwayne_file = \"DwayneJohnsonActors.graphml\""
   ]
  },
  {
   "cell_type": "code",
   "execution_count": 13,
   "metadata": {},
   "outputs": [],
   "source": [
    "dwayne = nx.read_graphml(dwayne_file)"
   ]
  },
  {
   "cell_type": "code",
   "execution_count": 14,
   "metadata": {},
   "outputs": [],
   "source": [
    "dwayne_deg = dict(nx.degree(dwayne, weight=\"weight\"))"
   ]
  },
  {
   "cell_type": "code",
   "execution_count": 15,
   "metadata": {},
   "outputs": [],
   "source": [
    "dwayne_bet = dict(nx.betweenness_centrality(dwayne, weight=\"weight\"))"
   ]
  },
  {
   "cell_type": "code",
   "execution_count": 16,
   "metadata": {},
   "outputs": [],
   "source": [
    "dwayne_clo = dict(nx.closeness_centrality(dwayne))"
   ]
  },
  {
   "cell_type": "code",
   "execution_count": 21,
   "metadata": {},
   "outputs": [],
   "source": [
    "names = nx.get_node_attributes(dwayne, \"label\")"
   ]
  },
  {
   "cell_type": "code",
   "execution_count": 22,
   "metadata": {},
   "outputs": [
    {
     "data": {
      "text/html": [
       "<div>\n",
       "<style scoped>\n",
       "    .dataframe tbody tr th:only-of-type {\n",
       "        vertical-align: middle;\n",
       "    }\n",
       "\n",
       "    .dataframe tbody tr th {\n",
       "        vertical-align: top;\n",
       "    }\n",
       "\n",
       "    .dataframe thead th {\n",
       "        text-align: right;\n",
       "    }\n",
       "</style>\n",
       "<table border=\"1\" class=\"dataframe\">\n",
       "  <thead>\n",
       "    <tr style=\"text-align: right;\">\n",
       "      <th></th>\n",
       "      <th>Wt Degree</th>\n",
       "      <th>Betweenness</th>\n",
       "      <th>Closeness</th>\n",
       "    </tr>\n",
       "    <tr>\n",
       "      <th>Names</th>\n",
       "      <th></th>\n",
       "      <th></th>\n",
       "      <th></th>\n",
       "    </tr>\n",
       "  </thead>\n",
       "  <tbody>\n",
       "    <tr>\n",
       "      <th>&lt;Dwayne_Johnson&gt;</th>\n",
       "      <td>41</td>\n",
       "      <td>0.042909</td>\n",
       "      <td>0.264034</td>\n",
       "    </tr>\n",
       "    <tr>\n",
       "      <th>&lt;Ashley_Judd&gt;</th>\n",
       "      <td>21</td>\n",
       "      <td>0.020275</td>\n",
       "      <td>0.239298</td>\n",
       "    </tr>\n",
       "    <tr>\n",
       "      <th>&lt;Julie_Andrews&gt;</th>\n",
       "      <td>60</td>\n",
       "      <td>0.041406</td>\n",
       "      <td>0.237217</td>\n",
       "    </tr>\n",
       "    <tr>\n",
       "      <th>&lt;Wallace_Shawn&gt;</th>\n",
       "      <td>54</td>\n",
       "      <td>0.064670</td>\n",
       "      <td>0.252686</td>\n",
       "    </tr>\n",
       "    <tr>\n",
       "      <th>&lt;Miranda_Richardson&gt;</th>\n",
       "      <td>44</td>\n",
       "      <td>0.046704</td>\n",
       "      <td>0.276225</td>\n",
       "    </tr>\n",
       "  </tbody>\n",
       "</table>\n",
       "</div>"
      ],
      "text/plain": [
       "                      Wt Degree  Betweenness  Closeness\n",
       "Names                                                  \n",
       "<Dwayne_Johnson>             41     0.042909   0.264034\n",
       "<Ashley_Judd>                21     0.020275   0.239298\n",
       "<Julie_Andrews>              60     0.041406   0.237217\n",
       "<Wallace_Shawn>              54     0.064670   0.252686\n",
       "<Miranda_Richardson>         44     0.046704   0.276225"
      ]
     },
     "execution_count": 22,
     "metadata": {},
     "output_type": "execute_result"
    }
   ],
   "source": [
    "dwayne_df = pd.DataFrame({\"Wt Degree\": dwayne_deg, \"Betweenness\":dwayne_bet, \"Closeness\":dwayne_clo, \"Names\": names})\n",
    "dwayne_df = dwayne_df.set_index(\"Names\")\n",
    "dwayne_df.head()"
   ]
  },
  {
   "cell_type": "code",
   "execution_count": 23,
   "metadata": {},
   "outputs": [],
   "source": [
    "scarlett_file = \"ScarletteJoActors.graphml\""
   ]
  },
  {
   "cell_type": "code",
   "execution_count": 24,
   "metadata": {},
   "outputs": [],
   "source": [
    "scarlett = nx.read_graphml(scarlett_file)"
   ]
  },
  {
   "cell_type": "code",
   "execution_count": 25,
   "metadata": {},
   "outputs": [],
   "source": [
    "scar_deg = dict(nx.degree(scarlett, weight=\"weight\"))"
   ]
  },
  {
   "cell_type": "code",
   "execution_count": 26,
   "metadata": {},
   "outputs": [],
   "source": [
    "scar_bet = dict(nx.betweenness_centrality(scarlett, weight=\"weight\"))"
   ]
  },
  {
   "cell_type": "code",
   "execution_count": 27,
   "metadata": {},
   "outputs": [],
   "source": [
    "scar_clo = dict(nx.closeness_centrality(scarlett))"
   ]
  },
  {
   "cell_type": "code",
   "execution_count": 28,
   "metadata": {},
   "outputs": [],
   "source": [
    "names2 = nx.get_node_attributes(scarlett, \"label\")"
   ]
  },
  {
   "cell_type": "code",
   "execution_count": 29,
   "metadata": {},
   "outputs": [
    {
     "data": {
      "text/html": [
       "<div>\n",
       "<style scoped>\n",
       "    .dataframe tbody tr th:only-of-type {\n",
       "        vertical-align: middle;\n",
       "    }\n",
       "\n",
       "    .dataframe tbody tr th {\n",
       "        vertical-align: top;\n",
       "    }\n",
       "\n",
       "    .dataframe thead th {\n",
       "        text-align: right;\n",
       "    }\n",
       "</style>\n",
       "<table border=\"1\" class=\"dataframe\">\n",
       "  <thead>\n",
       "    <tr style=\"text-align: right;\">\n",
       "      <th></th>\n",
       "      <th>Wt Degree</th>\n",
       "      <th>Betweenness</th>\n",
       "      <th>Closeness</th>\n",
       "    </tr>\n",
       "    <tr>\n",
       "      <th>Names</th>\n",
       "      <th></th>\n",
       "      <th></th>\n",
       "      <th></th>\n",
       "    </tr>\n",
       "  </thead>\n",
       "  <tbody>\n",
       "    <tr>\n",
       "      <th>&lt;Scarlett_Johansson&gt;</th>\n",
       "      <td>56</td>\n",
       "      <td>0.047083</td>\n",
       "      <td>0.348363</td>\n",
       "    </tr>\n",
       "    <tr>\n",
       "      <th>&lt;Sam_Neill&gt;</th>\n",
       "      <td>76</td>\n",
       "      <td>0.074588</td>\n",
       "      <td>0.297706</td>\n",
       "    </tr>\n",
       "    <tr>\n",
       "      <th>&lt;Robert_Redford&gt;</th>\n",
       "      <td>24</td>\n",
       "      <td>0.021763</td>\n",
       "      <td>0.243527</td>\n",
       "    </tr>\n",
       "    <tr>\n",
       "      <th>&lt;Kristin_Scott_Thomas&gt;</th>\n",
       "      <td>25</td>\n",
       "      <td>0.021838</td>\n",
       "      <td>0.287295</td>\n",
       "    </tr>\n",
       "    <tr>\n",
       "      <th>&lt;Chris_Evans_(actor)&gt;</th>\n",
       "      <td>60</td>\n",
       "      <td>0.018414</td>\n",
       "      <td>0.318762</td>\n",
       "    </tr>\n",
       "  </tbody>\n",
       "</table>\n",
       "</div>"
      ],
      "text/plain": [
       "                        Wt Degree  Betweenness  Closeness\n",
       "Names                                                    \n",
       "<Scarlett_Johansson>           56     0.047083   0.348363\n",
       "<Sam_Neill>                    76     0.074588   0.297706\n",
       "<Robert_Redford>               24     0.021763   0.243527\n",
       "<Kristin_Scott_Thomas>         25     0.021838   0.287295\n",
       "<Chris_Evans_(actor)>          60     0.018414   0.318762"
      ]
     },
     "execution_count": 29,
     "metadata": {},
     "output_type": "execute_result"
    }
   ],
   "source": [
    "scar_df = pd.DataFrame({\"Wt Degree\": scar_deg, \"Betweenness\":scar_bet, \"Closeness\":scar_clo, \"Names\": names2})\n",
    "scar_df = scar_df.set_index(\"Names\")\n",
    "scar_df.head()"
   ]
  },
  {
   "cell_type": "code",
   "execution_count": 30,
   "metadata": {},
   "outputs": [
    {
     "data": {
      "text/html": [
       "<div>\n",
       "<style scoped>\n",
       "    .dataframe tbody tr th:only-of-type {\n",
       "        vertical-align: middle;\n",
       "    }\n",
       "\n",
       "    .dataframe tbody tr th {\n",
       "        vertical-align: top;\n",
       "    }\n",
       "\n",
       "    .dataframe thead th {\n",
       "        text-align: right;\n",
       "    }\n",
       "</style>\n",
       "<table border=\"1\" class=\"dataframe\">\n",
       "  <thead>\n",
       "    <tr style=\"text-align: right;\">\n",
       "      <th></th>\n",
       "      <th>Wt Degree</th>\n",
       "      <th>Betweenness</th>\n",
       "      <th>Closeness</th>\n",
       "    </tr>\n",
       "  </thead>\n",
       "  <tbody>\n",
       "    <tr>\n",
       "      <th>count</th>\n",
       "      <td>650.000000</td>\n",
       "      <td>650.000000</td>\n",
       "      <td>650.000000</td>\n",
       "    </tr>\n",
       "    <tr>\n",
       "      <th>mean</th>\n",
       "      <td>11.043077</td>\n",
       "      <td>0.005083</td>\n",
       "      <td>0.242478</td>\n",
       "    </tr>\n",
       "    <tr>\n",
       "      <th>std</th>\n",
       "      <td>15.953843</td>\n",
       "      <td>0.016398</td>\n",
       "      <td>0.033771</td>\n",
       "    </tr>\n",
       "    <tr>\n",
       "      <th>min</th>\n",
       "      <td>2.000000</td>\n",
       "      <td>0.000000</td>\n",
       "      <td>0.150406</td>\n",
       "    </tr>\n",
       "    <tr>\n",
       "      <th>25%</th>\n",
       "      <td>2.000000</td>\n",
       "      <td>0.000000</td>\n",
       "      <td>0.224509</td>\n",
       "    </tr>\n",
       "    <tr>\n",
       "      <th>50%</th>\n",
       "      <td>5.000000</td>\n",
       "      <td>0.000000</td>\n",
       "      <td>0.242029</td>\n",
       "    </tr>\n",
       "    <tr>\n",
       "      <th>75%</th>\n",
       "      <td>13.000000</td>\n",
       "      <td>0.003082</td>\n",
       "      <td>0.263046</td>\n",
       "    </tr>\n",
       "    <tr>\n",
       "      <th>max</th>\n",
       "      <td>153.000000</td>\n",
       "      <td>0.195582</td>\n",
       "      <td>0.365840</td>\n",
       "    </tr>\n",
       "  </tbody>\n",
       "</table>\n",
       "</div>"
      ],
      "text/plain": [
       "        Wt Degree  Betweenness   Closeness\n",
       "count  650.000000   650.000000  650.000000\n",
       "mean    11.043077     0.005083    0.242478\n",
       "std     15.953843     0.016398    0.033771\n",
       "min      2.000000     0.000000    0.150406\n",
       "25%      2.000000     0.000000    0.224509\n",
       "50%      5.000000     0.000000    0.242029\n",
       "75%     13.000000     0.003082    0.263046\n",
       "max    153.000000     0.195582    0.365840"
      ]
     },
     "execution_count": 30,
     "metadata": {},
     "output_type": "execute_result"
    }
   ],
   "source": [
    "scar_df.describe()"
   ]
  },
  {
   "cell_type": "code",
   "execution_count": 31,
   "metadata": {},
   "outputs": [
    {
     "data": {
      "text/html": [
       "<div>\n",
       "<style scoped>\n",
       "    .dataframe tbody tr th:only-of-type {\n",
       "        vertical-align: middle;\n",
       "    }\n",
       "\n",
       "    .dataframe tbody tr th {\n",
       "        vertical-align: top;\n",
       "    }\n",
       "\n",
       "    .dataframe thead th {\n",
       "        text-align: right;\n",
       "    }\n",
       "</style>\n",
       "<table border=\"1\" class=\"dataframe\">\n",
       "  <thead>\n",
       "    <tr style=\"text-align: right;\">\n",
       "      <th></th>\n",
       "      <th>Wt Degree</th>\n",
       "      <th>Betweenness</th>\n",
       "      <th>Closeness</th>\n",
       "    </tr>\n",
       "  </thead>\n",
       "  <tbody>\n",
       "    <tr>\n",
       "      <th>count</th>\n",
       "      <td>683.000000</td>\n",
       "      <td>683.000000</td>\n",
       "      <td>683.000000</td>\n",
       "    </tr>\n",
       "    <tr>\n",
       "      <th>mean</th>\n",
       "      <td>13.045388</td>\n",
       "      <td>0.005696</td>\n",
       "      <td>0.214796</td>\n",
       "    </tr>\n",
       "    <tr>\n",
       "      <th>std</th>\n",
       "      <td>14.781775</td>\n",
       "      <td>0.016389</td>\n",
       "      <td>0.028467</td>\n",
       "    </tr>\n",
       "    <tr>\n",
       "      <th>min</th>\n",
       "      <td>2.000000</td>\n",
       "      <td>0.000000</td>\n",
       "      <td>0.134517</td>\n",
       "    </tr>\n",
       "    <tr>\n",
       "      <th>25%</th>\n",
       "      <td>2.000000</td>\n",
       "      <td>0.000000</td>\n",
       "      <td>0.197338</td>\n",
       "    </tr>\n",
       "    <tr>\n",
       "      <th>50%</th>\n",
       "      <td>7.000000</td>\n",
       "      <td>0.000000</td>\n",
       "      <td>0.216096</td>\n",
       "    </tr>\n",
       "    <tr>\n",
       "      <th>75%</th>\n",
       "      <td>18.000000</td>\n",
       "      <td>0.002933</td>\n",
       "      <td>0.229205</td>\n",
       "    </tr>\n",
       "    <tr>\n",
       "      <th>max</th>\n",
       "      <td>119.000000</td>\n",
       "      <td>0.154023</td>\n",
       "      <td>0.310990</td>\n",
       "    </tr>\n",
       "  </tbody>\n",
       "</table>\n",
       "</div>"
      ],
      "text/plain": [
       "        Wt Degree  Betweenness   Closeness\n",
       "count  683.000000   683.000000  683.000000\n",
       "mean    13.045388     0.005696    0.214796\n",
       "std     14.781775     0.016389    0.028467\n",
       "min      2.000000     0.000000    0.134517\n",
       "25%      2.000000     0.000000    0.197338\n",
       "50%      7.000000     0.000000    0.216096\n",
       "75%     18.000000     0.002933    0.229205\n",
       "max    119.000000     0.154023    0.310990"
      ]
     },
     "execution_count": 31,
     "metadata": {},
     "output_type": "execute_result"
    }
   ],
   "source": [
    "dwayne_df.describe()"
   ]
  },
  {
   "cell_type": "code",
   "execution_count": 49,
   "metadata": {},
   "outputs": [
    {
     "data": {
      "text/plain": [
       "Text(0.5,0.98,'Dwayne Johnson Correlation')"
      ]
     },
     "execution_count": 49,
     "metadata": {},
     "output_type": "execute_result"
    },
    {
     "data": {
      "image/png": "[encoded data removed]",
      "text/plain": [
       "<Figure size 540x540 with 12 Axes>"
      ]
     },
     "metadata": {},
     "output_type": "display_data"
    }
   ],
   "source": [
    "g = sbn.PairGrid(dwayne_df)\n",
    "g.map_offdiag(plt.scatter)\n",
    "g.map_diag(plt.hist)\n",
    "g.fig.suptitle(\"Dwayne Johnson Correlation\")"
   ]
  },
  {
   "cell_type": "code",
   "execution_count": 33,
   "metadata": {},
   "outputs": [
    {
     "data": {
      "text/plain": [
       "['<Michael_Caine>', '<Michael_Caine>', '<Harvey_Keitel>']"
      ]
     },
     "execution_count": 33,
     "metadata": {},
     "output_type": "execute_result"
    }
   ],
   "source": [
    "centralities = ['Wt Degree', 'Betweenness', 'Closeness']\n",
    "\n",
    "top_dwayne = [dwayne_df[centrality].sort_values(ascending=False).index[0] for centrality in centralities]\n",
    "top_dwayne"
   ]
  },
  {
   "cell_type": "code",
   "execution_count": 48,
   "metadata": {},
   "outputs": [
    {
     "data": {
      "text/plain": [
       "Text(0.5,0.98,'Scarlett Johansson Correlation')"
      ]
     },
     "execution_count": 48,
     "metadata": {},
     "output_type": "execute_result"
    },
    {
     "data": {
      "image/png": "[encoded data removed]",
      "text/plain": [
       "<Figure size 540x540 with 12 Axes>"
      ]
     },
     "metadata": {},
     "output_type": "display_data"
    }
   ],
   "source": [
    "g2 = sbn.PairGrid(scar_df)\n",
    "g2.map_offdiag(plt.scatter)\n",
    "g2.map_diag(plt.hist)\n",
    "g2.fig.suptitle(\"Scarlett Johansson Correlation\")"
   ]
  },
  {
   "cell_type": "code",
   "execution_count": 43,
   "metadata": {},
   "outputs": [
    {
     "data": {
      "text/html": [
       "<div>\n",
       "<style scoped>\n",
       "    .dataframe tbody tr th:only-of-type {\n",
       "        vertical-align: middle;\n",
       "    }\n",
       "\n",
       "    .dataframe tbody tr th {\n",
       "        vertical-align: top;\n",
       "    }\n",
       "\n",
       "    .dataframe thead th {\n",
       "        text-align: right;\n",
       "    }\n",
       "</style>\n",
       "<table border=\"1\" class=\"dataframe\">\n",
       "  <thead>\n",
       "    <tr style=\"text-align: right;\">\n",
       "      <th></th>\n",
       "      <th>Wt Degree</th>\n",
       "      <th>Betweenness</th>\n",
       "      <th>Closeness</th>\n",
       "    </tr>\n",
       "  </thead>\n",
       "  <tbody>\n",
       "    <tr>\n",
       "      <th>Wt Degree</th>\n",
       "      <td>1.000000</td>\n",
       "      <td>0.633914</td>\n",
       "      <td>0.380429</td>\n",
       "    </tr>\n",
       "    <tr>\n",
       "      <th>Betweenness</th>\n",
       "      <td>0.633914</td>\n",
       "      <td>1.000000</td>\n",
       "      <td>0.521715</td>\n",
       "    </tr>\n",
       "    <tr>\n",
       "      <th>Closeness</th>\n",
       "      <td>0.380429</td>\n",
       "      <td>0.521715</td>\n",
       "      <td>1.000000</td>\n",
       "    </tr>\n",
       "  </tbody>\n",
       "</table>\n",
       "</div>"
      ],
      "text/plain": [
       "             Wt Degree  Betweenness  Closeness\n",
       "Wt Degree     1.000000     0.633914   0.380429\n",
       "Betweenness   0.633914     1.000000   0.521715\n",
       "Closeness     0.380429     0.521715   1.000000"
      ]
     },
     "execution_count": 43,
     "metadata": {},
     "output_type": "execute_result"
    }
   ],
   "source": [
    "dwayne_corr = dwayne_df.corr()\n",
    "dwayne_corr"
   ]
  },
  {
   "cell_type": "code",
   "execution_count": 44,
   "metadata": {},
   "outputs": [
    {
     "data": {
      "text/html": [
       "<div>\n",
       "<style scoped>\n",
       "    .dataframe tbody tr th:only-of-type {\n",
       "        vertical-align: middle;\n",
       "    }\n",
       "\n",
       "    .dataframe tbody tr th {\n",
       "        vertical-align: top;\n",
       "    }\n",
       "\n",
       "    .dataframe thead th {\n",
       "        text-align: right;\n",
       "    }\n",
       "</style>\n",
       "<table border=\"1\" class=\"dataframe\">\n",
       "  <thead>\n",
       "    <tr style=\"text-align: right;\">\n",
       "      <th></th>\n",
       "      <th>Wt Degree</th>\n",
       "      <th>Betweenness</th>\n",
       "      <th>Closeness</th>\n",
       "    </tr>\n",
       "  </thead>\n",
       "  <tbody>\n",
       "    <tr>\n",
       "      <th>Wt Degree</th>\n",
       "      <td>1.000000</td>\n",
       "      <td>0.797104</td>\n",
       "      <td>0.614125</td>\n",
       "    </tr>\n",
       "    <tr>\n",
       "      <th>Betweenness</th>\n",
       "      <td>0.797104</td>\n",
       "      <td>1.000000</td>\n",
       "      <td>0.492413</td>\n",
       "    </tr>\n",
       "    <tr>\n",
       "      <th>Closeness</th>\n",
       "      <td>0.614125</td>\n",
       "      <td>0.492413</td>\n",
       "      <td>1.000000</td>\n",
       "    </tr>\n",
       "  </tbody>\n",
       "</table>\n",
       "</div>"
      ],
      "text/plain": [
       "             Wt Degree  Betweenness  Closeness\n",
       "Wt Degree     1.000000     0.797104   0.614125\n",
       "Betweenness   0.797104     1.000000   0.492413\n",
       "Closeness     0.614125     0.492413   1.000000"
      ]
     },
     "execution_count": 44,
     "metadata": {},
     "output_type": "execute_result"
    }
   ],
   "source": [
    "scar_corr = scar_df.corr()\n",
    "scar_corr"
   ]
  }
 ],
 "metadata": {
  "kernelspec": {
   "display_name": "Python 3",
   "language": "python",
   "name": "python3"
  },
  "language_info": {
   "codemirror_mode": {
    "name": "ipython",
    "version": 3
   },
   "file_extension": ".py",
   "mimetype": "text/x-python",
   "name": "python",
   "nbconvert_exporter": "python",
   "pygments_lexer": "ipython3",
   "version": "3.6.5"
  }
 },
 "nbformat": 4,
 "nbformat_minor": 2
}
